{
 "cells": [
  {
   "cell_type": "markdown",
   "id": "c964f968-3e62-4482-a547-c12c216c8a2b",
   "metadata": {},
   "source": [
    "# Conception de maille avec Xsuite\n",
    "\n",
    "Recréons la maille `PIMMS` développée par la collaboration TERA pour la thérapie par protons et ions (voir : [CERN/PS 99-010](https://cds.cern.ch/record/385378/)) et sur laquelle sont basés les synchrotrons médicaux `CNAO` et `MEDAUSTRON`."
   ]
  },
  {
   "cell_type": "code",
   "execution_count": null,
   "id": "8c7878e0-f94a-49db-b553-55cb47a48fbe",
   "metadata": {},
   "outputs": [],
   "source": [
    "import matplotlib.pyplot as plt\n",
    "import numpy as np\n",
    "import xtrack as xt\n",
    "\n",
    "%config InlineBackend.figure_format = \"retina\""
   ]
  },
  {
   "cell_type": "markdown",
   "id": "f7898693-7aec-4b85-8f77-87a4f502287e",
   "metadata": {},
   "source": [
    "### Création d'Environement and définition de la particule de référence"
   ]
  },
  {
   "cell_type": "code",
   "execution_count": null,
   "id": "22a617d2-2eb0-4226-b986-9552c79f242c",
   "metadata": {},
   "outputs": [],
   "source": [
    "env = xt.Environment()\n",
    "env.particle_ref = xt.Particles(kinetic_energy0=200e6)  # proton, 200MeV\n",
    "env.vars.default_to_zero = True  # Variables non définies sont à zéro"
   ]
  },
  {
   "cell_type": "markdown",
   "id": "c9ec8f28-e756-4a25-868a-0000ad468f30",
   "metadata": {},
   "source": [
    "### Définition des élements"
   ]
  },
  {
   "cell_type": "code",
   "execution_count": null,
   "id": "fb2ad2ab-a36e-49cb-b785-3320c64a64b4",
   "metadata": {},
   "outputs": [],
   "source": [
    "# Géometries des éléments\n",
    "n_bends = 16\n",
    "env[\"ang_mb\"] = 2 * np.pi / n_bends\n",
    "env[\"l_mb\"] = 1.65\n",
    "env[\"l_mq\"] = 0.35\n",
    "\n",
    "# Créations de dipoles et quadripôles génériques\n",
    "env.new(\"mb\", parent=xt.RBend, length=\"l_mb\", angle=\"ang_mb\", k0_from_h=True)\n",
    "env.new(\"mq\", parent=xt.Quadrupole, length=\"l_mq\");"
   ]
  },
  {
   "cell_type": "code",
   "execution_count": null,
   "id": "b0b1fccb-16d1-4dee-9971-c25d4b07e110",
   "metadata": {},
   "outputs": [],
   "source": [
    "# Différentes familles de quadripôles\n",
    "env.new(\"qfa\", parent=\"mq\", k1=\"kqfa\")\n",
    "env.new(\"qfb\", parent=\"mq\", k1=\"kqfb\")\n",
    "env.new(\"qd\", parent=\"mq\", k1=\"kqd\");"
   ]
  },
  {
   "cell_type": "markdown",
   "id": "4546d5c3-bab1-4d06-a034-f649ca45bf84",
   "metadata": {},
   "source": [
    "### Conception d'une cellule"
   ]
  },
  {
   "cell_type": "code",
   "execution_count": null,
   "id": "0e6c15c8-e32d-465f-a11a-56fe35561448",
   "metadata": {},
   "outputs": [],
   "source": [
    "# Cellule FODO (focalisant-défocalisant-focalisant)\n",
    "cell_a = env.new_line(\n",
    "    length=7.405,\n",
    "    components=[\n",
    "        env.place(\"qfa\", at=0.3875),\n",
    "        env.place(\"mb\", at=1.8125),\n",
    "        env.place(\"qd\", at=3.2925),\n",
    "        env.place(\"mb\", at=5.0475),\n",
    "        env.place(\"qfa\", at=6.3275),\n",
    "    ],\n",
    ")\n",
    "cell_a.survey().plot()"
   ]
  },
  {
   "cell_type": "code",
   "execution_count": null,
   "id": "1d8ab550-f38b-449b-9c27-ab7f8b95d890",
   "metadata": {},
   "outputs": [],
   "source": [
    "# Cellule similaire avec la seconde famille de quadripôles focalisants\n",
    "cell_b = env.new_line(\n",
    "    name=\"cell_b\",\n",
    "    length=8.405,\n",
    "    components=[\n",
    "        env.place(\"qfb\", at=1.2725),\n",
    "        env.place(\"mb\", at=2.7275),\n",
    "        env.place(\"qd\", at=4.8575),\n",
    "        env.place(\"mb\", at=6.5125),\n",
    "        env.place(\"qfb\", at=7.7925),\n",
    "    ],\n",
    ")"
   ]
  },
  {
   "cell_type": "markdown",
   "id": "7db9f81e-6eb5-46ff-a54c-547a1a07b058",
   "metadata": {},
   "source": [
    "### Conception d'un arc"
   ]
  },
  {
   "cell_type": "code",
   "execution_count": null,
   "id": "d5d5ea10-040a-4957-8d41-819a23929365",
   "metadata": {},
   "outputs": [],
   "source": [
    "# Concaténation des deux cellules en un arc\n",
    "arc = cell_a + cell_b\n",
    "arc.survey().plot()"
   ]
  },
  {
   "cell_type": "markdown",
   "id": "9d0057a2-b9a4-4325-9173-a00b443c8e57",
   "metadata": {},
   "source": [
    "### Conception de sections droites"
   ]
  },
  {
   "cell_type": "code",
   "execution_count": null,
   "id": "23b42d9d-80a4-44d8-bd94-74afec678a30",
   "metadata": {},
   "outputs": [],
   "source": [
    "long_straight = env.new_line(length=2.0, components=[env.new(\"mid.lss\", parent=xt.Marker, at=1.0)])\n",
    "short_straight = env.new_line(length=1.0, components=[env.new(\"mid.sss\", parent=xt.Marker, at=0.5)])"
   ]
  },
  {
   "cell_type": "markdown",
   "id": "127f334d-e8d9-45fc-b180-6ed9410bb014",
   "metadata": {},
   "source": [
    "### Assemblage de l'anneau"
   ]
  },
  {
   "cell_type": "code",
   "execution_count": null,
   "id": "8ff93872-f9cf-47a2-bdef-3e9824e33429",
   "metadata": {},
   "outputs": [],
   "source": [
    "half_ring = long_straight + arc + short_straight - arc  # pour une maille symmétrique\n",
    "ring = 2 * half_ring\n",
    "ring.survey().plot()"
   ]
  },
  {
   "cell_type": "markdown",
   "id": "30460ac8-d8be-4b15-b784-1bda531fb2f4",
   "metadata": {},
   "source": [
    "### Replacement des éléments répétés"
   ]
  },
  {
   "cell_type": "code",
   "execution_count": null,
   "id": "853848d0-1875-4f65-8e1c-2afeec878a91",
   "metadata": {},
   "outputs": [],
   "source": [
    "# Déduplication en donnant des noms uniques\n",
    "ring.replace_all_repeated_elements()"
   ]
  },
  {
   "cell_type": "markdown",
   "id": "fc3860c1-db91-4baf-93d4-d19ce0aeab27",
   "metadata": {},
   "source": [
    "### Inspection de la table"
   ]
  },
  {
   "cell_type": "code",
   "execution_count": null,
   "id": "9837083d-16c2-4e5a-92cc-e0044095fde5",
   "metadata": {},
   "outputs": [],
   "source": [
    "table = ring.get_table()\n",
    "table.cols[\"element_type\", \"s_start\", \"s_center\", \"s_end\"]"
   ]
  },
  {
   "cell_type": "code",
   "execution_count": null,
   "id": "3d4613b5-b5f2-4aca-bfcf-8cefc69e46dd",
   "metadata": {},
   "outputs": [],
   "source": [
    "# Séléction des quadripôles uniquement\n",
    "table_quads = table.rows[table.element_type == \"Quadrupole\"]\n",
    "table_quads.cols[\"s_start\", \"s_center\", \"s_end\"]"
   ]
  },
  {
   "cell_type": "code",
   "execution_count": null,
   "id": "23f562ae-09b3-43f3-962b-f285c0cf0097",
   "metadata": {},
   "outputs": [],
   "source": [
    "# Mise en exergue de leurs positions dans la maille\n",
    "sv = ring.survey()\n",
    "sv.plot(labels=table_quads.name);"
   ]
  },
  {
   "cell_type": "markdown",
   "id": "1b31927a-85b3-4d0b-a0dc-4570606901ba",
   "metadata": {},
   "source": [
    "### Definition et installation des sextupôles"
   ]
  },
  {
   "cell_type": "code",
   "execution_count": null,
   "id": "827287cb-47d0-4b40-9487-05d3527c77ac",
   "metadata": {},
   "outputs": [],
   "source": [
    "# Aimant sextupôles générique\n",
    "env.new(\"ms\", parent=xt.Sextupole, length=0.2)\n",
    "\n",
    "# Les sextupôles eux-mêmes\n",
    "env.new(\"msf.1\", parent=\"ms\", k2=\"ksf\")  # focalisant\n",
    "env.new(\"msf.2\", parent=\"ms\", k2=\"ksf\")  # focalisant\n",
    "env.new(\"msd.1\", parent=\"ms\", k2=\"ksd\")  # défocalisant\n",
    "env.new(\"msd.2\", parent=\"ms\", k2=\"ksd\")  # défocalisant\n",
    "env.new(\"mse\", parent=\"ms\", k2=\"kse\")\n",
    "# pour l'extraction"
   ]
  },
  {
   "cell_type": "code",
   "execution_count": null,
   "id": "2759be60-46b3-4e56-94aa-9aa3ed0754e4",
   "metadata": {},
   "outputs": [],
   "source": [
    "# Insertion dans l'anneau, en positions relatives\n",
    "ring.insert(\n",
    "    [\n",
    "        env.place(\"msf.1\", at=-0.2, from_=\"qfb.0@start\"),\n",
    "        env.place(\"msf.2\", at=-0.2, from_=\"qfb.4@start\"),\n",
    "        env.place(\"msd.1\", at=0.3, from_=\"qd.2@end\"),\n",
    "        env.place(\"msd.2\", at=0.3, from_=\"qd.6@end\"),\n",
    "        env.place(\"mse\", at=-0.3, from_=\"qfa.4@start\"),\n",
    "    ]\n",
    ")"
   ]
  },
  {
   "cell_type": "code",
   "execution_count": null,
   "id": "ab7b8b9d-e1a1-4eee-84e1-15cec79edd5b",
   "metadata": {},
   "outputs": [],
   "source": [
    "# Mise en exergue dans la maille\n",
    "survey = ring.survey()\n",
    "survey.plot(labels=[\"msf.1\", \"msf.2\", \"msd.1\", \"msd.2\", \"mse\"])"
   ]
  },
  {
   "cell_type": "markdown",
   "id": "b23fe674-5569-4f38-80a4-7bcb1b329f9f",
   "metadata": {},
   "source": [
    "### Inspection de la structure des circuits"
   ]
  },
  {
   "cell_type": "code",
   "execution_count": null,
   "id": "2f064cc5-a3f4-47f5-bd5a-2cd5bdafa185",
   "metadata": {},
   "outputs": [],
   "source": [
    "# Éléments contrôlés par une variable\n",
    "env.info(\"ksf\")"
   ]
  },
  {
   "cell_type": "markdown",
   "id": "b14e6802-0cbf-4904-af32-387274b3cdaa",
   "metadata": {},
   "source": [
    "### Installation d'une cavité RF"
   ]
  },
  {
   "cell_type": "code",
   "execution_count": null,
   "id": "1a1b3b42-d0ca-4b21-a470-beac6a4dc358",
   "metadata": {},
   "outputs": [],
   "source": [
    "env.new(\"rf1\", parent=xt.Cavity, voltage=\"vrf\", frequency=\"frf\")\n",
    "ring.insert(\"rf1\", at=0.5, from_=\"qfa.3@start\")\n",
    "survey = ring.survey()\n",
    "survey.plot(labels=[\"rf1\"])"
   ]
  },
  {
   "cell_type": "markdown",
   "id": "004f1c97-6ab2-4d5a-8d4f-c9b81840b97e",
   "metadata": {},
   "source": [
    "### Export de la maille en fichier JSON"
   ]
  },
  {
   "cell_type": "code",
   "execution_count": null,
   "id": "c53aa10e-b347-4fd5-a994-0e8d2911520b",
   "metadata": {},
   "outputs": [],
   "source": [
    "env[\"ring\"] = ring\n",
    "env.to_json(\"pimms.json\")"
   ]
  },
  {
   "cell_type": "markdown",
   "id": "6e13bbbb-9abb-4e02-aa04-ec2b936c937e",
   "metadata": {},
   "source": [
    "---"
   ]
  }
 ],
 "metadata": {
  "kernelspec": {
   "display_name": "xsuite",
   "language": "python",
   "name": "xsuite"
  },
  "language_info": {
   "codemirror_mode": {
    "name": "ipython",
    "version": 3
   },
   "file_extension": ".py",
   "mimetype": "text/x-python",
   "name": "python",
   "nbconvert_exporter": "python",
   "pygments_lexer": "ipython3",
   "version": "3.13.5"
  }
 },
 "nbformat": 4,
 "nbformat_minor": 5
}
