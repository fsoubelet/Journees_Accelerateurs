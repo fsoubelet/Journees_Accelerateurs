{
 "cells": [
  {
   "cell_type": "markdown",
   "id": "c964f968-3e62-4482-a547-c12c216c8a2b",
   "metadata": {},
   "source": [
    "# Lattice design with Xsuite\n",
    "\n",
    "We will uses as example the PIMM lattice developed by the TERA collaboration for proton and ion therapy ([CERN/PS 99-010](https://cds.cern.ch/record/385378/)) and implemented in the CNAO and MEDAUSTRON synchrotrons."
   ]
  },
  {
   "cell_type": "code",
   "execution_count": null,
   "id": "8c7878e0-f94a-49db-b553-55cb47a48fbe",
   "metadata": {},
   "outputs": [],
   "source": [
    "import matplotlib.pyplot as plt\n",
    "import numpy as np\n",
    "import xtrack as xt\n",
    "\n",
    "%config InlineBackend.figure_format = \"retina\""
   ]
  },
  {
   "cell_type": "markdown",
   "id": "f7898693-7aec-4b85-8f77-87a4f502287e",
   "metadata": {},
   "source": [
    "### Build Environment and Define a Reference Particle"
   ]
  },
  {
   "cell_type": "code",
   "execution_count": null,
   "id": "22a617d2-2eb0-4226-b986-9552c79f242c",
   "metadata": {},
   "outputs": [],
   "source": [
    "env = xt.Environment()\n",
    "env.particle_ref = xt.Particles(kinetic_energy0=200e6)  # 200MeV\n",
    "env.vars.default_to_zero = True  # Undefined variables in env are set to zero."
   ]
  },
  {
   "cell_type": "markdown",
   "id": "c9ec8f28-e756-4a25-868a-0000ad468f30",
   "metadata": {},
   "source": [
    "### Define Elements"
   ]
  },
  {
   "cell_type": "code",
   "execution_count": null,
   "id": "fb2ad2ab-a36e-49cb-b785-3320c64a64b4",
   "metadata": {},
   "outputs": [],
   "source": [
    "# Element geometry\n",
    "n_bends = 16\n",
    "env[\"ang_mb\"] = 2 * np.pi / n_bends\n",
    "env[\"l_mb\"] = 1.65\n",
    "env[\"l_mq\"] = 0.35\n",
    "\n",
    "env.new(\"mb\", parent=xt.RBend, length=\"l_mb\", angle=\"ang_mb\", k0_from_h=True)\n",
    "env.new(\"mq\", parent=xt.Quadrupole, length=\"l_mq\");"
   ]
  },
  {
   "cell_type": "code",
   "execution_count": null,
   "id": "b0b1fccb-16d1-4dee-9971-c25d4b07e110",
   "metadata": {},
   "outputs": [],
   "source": [
    "# Quadrupole families with different strengths\n",
    "env.new(\"qfa\", parent=\"mq\", k1=\"kqfa\")\n",
    "env.new(\"qfb\", parent=\"mq\", k1=\"kqfb\")\n",
    "env.new(\"qd\", parent=\"mq\", k1=\"kqd\");"
   ]
  },
  {
   "cell_type": "markdown",
   "id": "4546d5c3-bab1-4d06-a034-f649ca45bf84",
   "metadata": {},
   "source": [
    "### Build Lattice Cells"
   ]
  },
  {
   "cell_type": "code",
   "execution_count": null,
   "id": "0e6c15c8-e32d-465f-a11a-56fe35561448",
   "metadata": {},
   "outputs": [],
   "source": [
    "cell_a = env.new_line(\n",
    "    length=7.405,\n",
    "    components=[\n",
    "        env.place(\"qfa\", at=0.3875),\n",
    "        env.place(\"mb\", at=1.8125),\n",
    "        env.place(\"qd\", at=3.2925),\n",
    "        env.place(\"mb\", at=5.0475),\n",
    "        env.place(\"qfa\", at=6.3275),\n",
    "    ],\n",
    ")\n",
    "cell_a.survey().plot()"
   ]
  },
  {
   "cell_type": "code",
   "execution_count": null,
   "id": "1d8ab550-f38b-449b-9c27-ab7f8b95d890",
   "metadata": {},
   "outputs": [],
   "source": [
    "# Similar cell with second familiar of focusing quads\n",
    "cell_b = env.new_line(\n",
    "    name=\"cell_b\",\n",
    "    length=8.405,\n",
    "    components=[\n",
    "        env.place(\"qfb\", at=1.2725),\n",
    "        env.place(\"mb\", at=2.7275),\n",
    "        env.place(\"qd\", at=4.8575),\n",
    "        env.place(\"mb\", at=6.5125),\n",
    "        env.place(\"qfb\", at=7.7925),\n",
    "    ],\n",
    ")\n",
    "# cell_b.survey().plot()"
   ]
  },
  {
   "cell_type": "markdown",
   "id": "7db9f81e-6eb5-46ff-a54c-547a1a07b058",
   "metadata": {},
   "source": [
    "### Build an Arc"
   ]
  },
  {
   "cell_type": "code",
   "execution_count": null,
   "id": "d5d5ea10-040a-4957-8d41-819a23929365",
   "metadata": {},
   "outputs": [],
   "source": [
    "# Concatenate the two cells\n",
    "arc = cell_a + cell_b\n",
    "# arc.survey().plot()"
   ]
  },
  {
   "cell_type": "markdown",
   "id": "9d0057a2-b9a4-4325-9173-a00b443c8e57",
   "metadata": {},
   "source": [
    "### Build Straight Sections"
   ]
  },
  {
   "cell_type": "code",
   "execution_count": null,
   "id": "23b42d9d-80a4-44d8-bd94-74afec678a30",
   "metadata": {},
   "outputs": [],
   "source": [
    "long_straight = env.new_line(length=2.0, components=[env.new(\"mid.lss\", parent=xt.Marker, at=1.0)])\n",
    "short_straight = env.new_line(length=1.0, components=[env.new(\"mid.sss\", parent=xt.Marker, at=0.5)])"
   ]
  },
  {
   "cell_type": "markdown",
   "id": "127f334d-e8d9-45fc-b180-6ed9410bb014",
   "metadata": {},
   "source": [
    "### Assemble the Ring"
   ]
  },
  {
   "cell_type": "code",
   "execution_count": null,
   "id": "8ff93872-f9cf-47a2-bdef-3e9824e33429",
   "metadata": {},
   "outputs": [],
   "source": [
    "half_ring = long_straight + arc + short_straight - arc  # mirror symmetric lattice\n",
    "# half_ring.survey().plot()"
   ]
  },
  {
   "cell_type": "code",
   "execution_count": null,
   "id": "5d569419-8d60-43b7-8f76-9de5d38643f5",
   "metadata": {},
   "outputs": [],
   "source": [
    "ring = 2 * half_ring\n",
    "ring.survey().plot()"
   ]
  },
  {
   "cell_type": "markdown",
   "id": "30460ac8-d8be-4b15-b784-1bda531fb2f4",
   "metadata": {},
   "source": [
    "### Replace Repeated Elements"
   ]
  },
  {
   "cell_type": "code",
   "execution_count": null,
   "id": "853848d0-1875-4f65-8e1c-2afeec878a91",
   "metadata": {},
   "outputs": [],
   "source": [
    "# Gives all elements unique names\n",
    "ring.replace_all_repeated_elements()"
   ]
  },
  {
   "cell_type": "markdown",
   "id": "fc3860c1-db91-4baf-93d4-d19ce0aeab27",
   "metadata": {},
   "source": [
    "### Inspect Beamline Table"
   ]
  },
  {
   "cell_type": "code",
   "execution_count": null,
   "id": "9837083d-16c2-4e5a-92cc-e0044095fde5",
   "metadata": {},
   "outputs": [],
   "source": [
    "table = ring.get_table()\n",
    "table.cols[\"element_type\", \"s_start\", \"s_center\", \"s_end\"]"
   ]
  },
  {
   "cell_type": "code",
   "execution_count": null,
   "id": "3d4613b5-b5f2-4aca-bfcf-8cefc69e46dd",
   "metadata": {},
   "outputs": [],
   "source": [
    "# Inspect all quadrupoles\n",
    "table_quads = table.rows[table.element_type == \"Quadrupole\"]\n",
    "table_quads.cols[\"s_start\", \"s_center\", \"s_end\"]"
   ]
  },
  {
   "cell_type": "code",
   "execution_count": null,
   "id": "23f562ae-09b3-43f3-962b-f285c0cf0097",
   "metadata": {},
   "outputs": [],
   "source": [
    "# Tag all quadrupoles in survey plot\n",
    "sv = ring.survey()\n",
    "sv.plot(labels=table_quads.name);"
   ]
  },
  {
   "cell_type": "markdown",
   "id": "1b31927a-85b3-4d0b-a0dc-4570606901ba",
   "metadata": {},
   "source": [
    "### Define and Install Sextupoles"
   ]
  },
  {
   "cell_type": "code",
   "execution_count": null,
   "id": "827287cb-47d0-4b40-9487-05d3527c77ac",
   "metadata": {},
   "outputs": [],
   "source": [
    "# Magnet type\n",
    "env.new(\"ms\", parent=xt.Sextupole, length=0.2)\n",
    "\n",
    "# Magnet instances\n",
    "env.new(\"msf.1\", parent=\"ms\", k2=\"ksf\")  # focusing\n",
    "env.new(\"msf.2\", parent=\"ms\", k2=\"ksf\")  # focusing\n",
    "env.new(\"msd.1\", parent=\"ms\", k2=\"ksd\")  # defocusing\n",
    "env.new(\"msd.2\", parent=\"ms\", k2=\"ksd\")  # defocusing\n",
    "env.new(\"mse\", parent=\"ms\", k2=\"kse\")  # for extraction"
   ]
  },
  {
   "cell_type": "code",
   "execution_count": null,
   "id": "2759be60-46b3-4e56-94aa-9aa3ed0754e4",
   "metadata": {},
   "outputs": [],
   "source": [
    "ring.insert(\n",
    "    [\n",
    "        env.place(\"msf.1\", at=-0.2, from_=\"qfb.0@start\"),\n",
    "        env.place(\"msf.2\", at=-0.2, from_=\"qfb.4@start\"),\n",
    "        env.place(\"msd.1\", at=0.3, from_=\"qd.2@end\"),\n",
    "        env.place(\"msd.2\", at=0.3, from_=\"qd.6@end\"),\n",
    "        env.place(\"mse\", at=-0.3, from_=\"qfa.4@start\"),\n",
    "    ]\n",
    ")"
   ]
  },
  {
   "cell_type": "code",
   "execution_count": null,
   "id": "ab7b8b9d-e1a1-4eee-84e1-15cec79edd5b",
   "metadata": {},
   "outputs": [],
   "source": [
    "# Inspect sextupoles in the survey\n",
    "survey = ring.survey()\n",
    "survey.plot(labels=[\"msf.1\", \"msf.2\", \"msd.1\", \"msd.2\", \"mse\"])"
   ]
  },
  {
   "cell_type": "markdown",
   "id": "b23fe674-5569-4f38-80a4-7bcb1b329f9f",
   "metadata": {},
   "source": [
    "## Inspect Circuit Structure"
   ]
  },
  {
   "cell_type": "code",
   "execution_count": null,
   "id": "2f064cc5-a3f4-47f5-bd5a-2cd5bdafa185",
   "metadata": {},
   "outputs": [],
   "source": [
    "# Entities controlled by one knob\n",
    "env.info(\"ksf\")"
   ]
  },
  {
   "cell_type": "code",
   "execution_count": null,
   "id": "f2649bab-3e5b-4d81-bb82-5c1928b6cb23",
   "metadata": {},
   "outputs": [],
   "source": [
    "# Inspect knob controlling one magnet\n",
    "env.info(\"msf.1\")"
   ]
  },
  {
   "cell_type": "markdown",
   "id": "b14e6802-0cbf-4904-af32-387274b3cdaa",
   "metadata": {},
   "source": [
    "### Install RF Cavity"
   ]
  },
  {
   "cell_type": "code",
   "execution_count": null,
   "id": "1a1b3b42-d0ca-4b21-a470-beac6a4dc358",
   "metadata": {},
   "outputs": [],
   "source": [
    "env.new(\"rf1\", parent=xt.Cavity, voltage=\"vrf\", frequency=\"frf\")\n",
    "ring.insert(\"rf1\", at=0.5, from_=\"qfa.3@start\")"
   ]
  },
  {
   "cell_type": "code",
   "execution_count": null,
   "id": "1020839b-d2c5-4b6c-a790-0f5d6b63ff1a",
   "metadata": {},
   "outputs": [],
   "source": [
    "survey = ring.survey()\n",
    "survey.plot(labels=[\"rf1\"])"
   ]
  },
  {
   "cell_type": "markdown",
   "id": "004f1c97-6ab2-4d5a-8d4f-c9b81840b97e",
   "metadata": {},
   "source": [
    "### Save lattice to json file"
   ]
  },
  {
   "cell_type": "code",
   "execution_count": null,
   "id": "c53aa10e-b347-4fd5-a994-0e8d2911520b",
   "metadata": {},
   "outputs": [],
   "source": [
    "env[\"ring\"] = ring\n",
    "env.to_json(\"pimm.json\")"
   ]
  },
  {
   "cell_type": "markdown",
   "id": "6e13bbbb-9abb-4e02-aa04-ec2b936c937e",
   "metadata": {},
   "source": [
    "---"
   ]
  }
 ],
 "metadata": {
  "kernelspec": {
   "display_name": "xsuite",
   "language": "python",
   "name": "xsuite"
  },
  "language_info": {
   "codemirror_mode": {
    "name": "ipython",
    "version": 3
   },
   "file_extension": ".py",
   "mimetype": "text/x-python",
   "name": "python",
   "nbconvert_exporter": "python",
   "pygments_lexer": "ipython3",
   "version": "3.13.5"
  }
 },
 "nbformat": 4,
 "nbformat_minor": 5
}
