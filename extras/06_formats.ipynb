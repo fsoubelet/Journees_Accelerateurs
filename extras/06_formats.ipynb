{
 "cells": [
  {
   "cell_type": "markdown",
   "id": "f0b542b6-e24d-400a-9fb3-77c092a16e5a",
   "metadata": {},
   "source": [
    "# Formats acceptés par Xsuite\n",
    "\n",
    "Ce notebook donne une vue des différentes façons de créer, importer et exporter des mailles avec Xsuite."
   ]
  },
  {
   "cell_type": "code",
   "execution_count": null,
   "id": "88b6850b-92e1-466e-aae3-1e45ec225778",
   "metadata": {},
   "outputs": [],
   "source": [
    "import xtrack as xt\n",
    "from cpymad.madx import Madx\n",
    "\n",
    "%matplotlib widget"
   ]
  },
  {
   "cell_type": "markdown",
   "id": "e7e5f68b-a467-4ed3-bca8-4b914e7ae1ec",
   "metadata": {},
   "source": [
    "## Charger une maille MAD-X via cpymad\n",
    "\n",
    "Le paquet [cpymad](https://pypi.org/project/cpymad/) permet de communiquer avec le process MAD-X et de programmer les simulations via Python. Cette approche permet de gérer tout script MAD-X, y compris l'inclusion et l'exécution de macros. Cette approche sera discontinuée à la fin du support de MAD-X (~2029)."
   ]
  },
  {
   "cell_type": "code",
   "execution_count": null,
   "id": "b728e9eb-a780-4ed1-af83-429c25f5f67f",
   "metadata": {
    "scrolled": true
   },
   "outputs": [],
   "source": [
    "%%capture\n",
    "madx = Madx()\n",
    "madx.call(\"inputs/pimms.madx\")\n",
    "madx.beam()\n",
    "madx.use(\"pimms\")"
   ]
  },
  {
   "cell_type": "code",
   "execution_count": null,
   "id": "4c9eff54-9216-403d-b307-65afce17cb11",
   "metadata": {},
   "outputs": [],
   "source": [
    "# La séquence cpymad elle-même peut être importée dans Xsuite\n",
    "ring = xt.Line.from_madx_sequence(madx.sequence.pimms, deferred_expressions=True)\n",
    "ring.particle_ref = xt.Particles(kinetic_energy0=200e6)"
   ]
  },
  {
   "cell_type": "code",
   "execution_count": null,
   "id": "05deb399-17f0-4168-a505-978ebfb4e6f4",
   "metadata": {},
   "outputs": [],
   "source": [
    "twiss = ring.twiss4d()  # Twiss\n",
    "twiss.rows[\"qfa.*\"].cols[\"s betx bety dx\"]  # optique à une famille de quadripôles focalisants"
   ]
  },
  {
   "cell_type": "markdown",
   "id": "8ee0094d-77a6-4b7d-b829-2c067d6dac54",
   "metadata": {},
   "source": [
    "## Charger séquence et optique directement depuis des scripts MAD-X\n",
    "\n",
    "Xsuite inclus un analyseur syntaxique qui peut directement ingérer des scripts MAD-X définissant des séquences, références etc. Cette approche ne gère pas l'exécution de macros. L'approche sera discontinuée à la fin du support MAD-X (~2029)."
   ]
  },
  {
   "cell_type": "code",
   "execution_count": null,
   "id": "9cdc206d-a0f0-47e6-9b3a-bda2590069ee",
   "metadata": {},
   "outputs": [],
   "source": [
    "env = xt.load(\"inputs/pimms.madx\")\n",
    "ring = env[\"pimms\"]\n",
    "ring.particle_ref = xt.Particles(kinetic_energy0=200e6)"
   ]
  },
  {
   "cell_type": "code",
   "execution_count": null,
   "id": "e6fd491a-a439-4d63-b8bc-5048a35bc453",
   "metadata": {},
   "outputs": [],
   "source": [
    "twiss = ring.twiss4d()\n",
    "twiss.rows[\"qfa.*\"].cols[\"s betx bety dx\"]  # optique à une famille de quadripôles focalisants"
   ]
  },
  {
   "cell_type": "markdown",
   "id": "b7feaff2-d5fa-42b0-b2a7-3b555e9a5023",
   "metadata": {},
   "source": [
    "### Charger une maille en JSON"
   ]
  },
  {
   "cell_type": "code",
   "execution_count": null,
   "id": "340f18be-33e8-48e4-b92d-87cf4c44c53b",
   "metadata": {},
   "outputs": [],
   "source": [
    "env = xt.Environment.from_json(\"inputs/pimms.json\")\n",
    "twiss = env.pimms.twiss4d()  # Twiss\n",
    "twiss.rows[\"qfa.*\"].cols[\"s betx bety dx\"]  # Get optics at selected locations"
   ]
  },
  {
   "cell_type": "markdown",
   "id": "1040d03a-8f56-40a7-a407-e8eca29dd9dd",
   "metadata": {},
   "source": [
    "### Charger un environement défini de manière programmatique (Python)\n",
    "\n",
    "Il est possible de définir la maille ainsi que les références et alimentations directement en script Python (ce qui peut inclure logique, commentaires, etc.) et de les charger directement dans Xsuite.\n",
    "\n",
    "Cette solution fonctionne avec les mailles très larges, comme par exemple la [maille du LHC](https://raw.githubusercontent.com/xsuite/xtrack/refs/heads/main/examples/lhc_native_python/lhc_seq.py)."
   ]
  },
  {
   "cell_type": "code",
   "execution_count": null,
   "id": "98a56523-0dd2-4ff1-b7cb-e63b9a9a1e02",
   "metadata": {},
   "outputs": [],
   "source": [
    "%%capture\n",
    "env = xt.Environment()\n",
    "env.call(\"inputs/pimms.py\")"
   ]
  },
  {
   "cell_type": "code",
   "execution_count": null,
   "id": "7edd4969-8d39-4395-8f0a-479a8333db8e",
   "metadata": {},
   "outputs": [],
   "source": [
    "twiss = env.ring.twiss4d()  # Twiss\n",
    "twiss.rows[\"qfa.*\"].cols[\"s betx bety dx\"]  # Get optics at selected locations"
   ]
  },
  {
   "cell_type": "markdown",
   "id": "420eea0f-512d-4215-93ae-4cff7ce841dd",
   "metadata": {},
   "source": [
    "## Charger des configurations hébergées\n",
    "\n",
    "Il est possible de charger des configurations hébergées en ligne, pourvu qu'elles respectent les formats ci-dessus. Ici par exemple, nous pouvons très facilement charger la configuration complète du LHC en fin de beta-star levelling, pendant les collisions."
   ]
  },
  {
   "cell_type": "code",
   "execution_count": null,
   "id": "96d93de8-e811-44ec-a505-7dedc15fb911",
   "metadata": {},
   "outputs": [],
   "source": [
    "lhc = xt.load(\"https://acc-models.web.cern.ch/acc-models/lhc/2025/xsuite/lhc.json\")\n",
    "lhc.vars.load(\"https://acc-models.web.cern.ch/acc-models/lhc/2025/scenarios/cycle/pp/levelling/889/optics.madx\")\n",
    "lhc.b1.particle_ref = xt.Particles(mass0=938272046.0, q0=1, energy0=6800000000000.0)\n",
    "lhc.b2.particle_ref = xt.Particles(mass0=938272046.0, q0=1, energy0=6800000000000.0)"
   ]
  },
  {
   "cell_type": "raw",
   "id": "8fa6919c-04f9-4741-94fa-24b8cc98eab4",
   "metadata": {},
   "source": [
    "lhc.b1.twiss().plot()"
   ]
  },
  {
   "cell_type": "raw",
   "id": "9ada6a67-332b-44be-a860-58a364119d36",
   "metadata": {},
   "source": [
    "lhc.b1.survey().plot()"
   ]
  },
  {
   "cell_type": "markdown",
   "id": "5ef59678-87df-4060-a176-7ca323713c6c",
   "metadata": {},
   "source": [
    "---"
   ]
  }
 ],
 "metadata": {
  "kernelspec": {
   "display_name": "xsuite",
   "language": "python",
   "name": "xsuite"
  },
  "language_info": {
   "codemirror_mode": {
    "name": "ipython",
    "version": 3
   },
   "file_extension": ".py",
   "mimetype": "text/x-python",
   "name": "python",
   "nbconvert_exporter": "python",
   "pygments_lexer": "ipython3",
   "version": "3.13.5"
  }
 },
 "nbformat": 4,
 "nbformat_minor": 5
}
