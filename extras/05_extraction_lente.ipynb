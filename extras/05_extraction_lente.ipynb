{
 "cells": [
  {
   "cell_type": "markdown",
   "id": "4e1879c7-2219-4a9a-8f6a-f37456f76237",
   "metadata": {},
   "source": [
    "# Simulation de tracking d'extraction lente"
   ]
  },
  {
   "cell_type": "code",
   "execution_count": null,
   "id": "6bc06a3b-6341-4496-acf0-02543dee3470",
   "metadata": {},
   "outputs": [],
   "source": [
    "import matplotlib.pyplot as plt\n",
    "import numpy as np\n",
    "import xobjects as xo\n",
    "import xplt\n",
    "import xtrack as xt\n",
    "from scipy.constants import c as clight\n",
    "\n",
    "%config InlineBackend.figure_format = \"retina\""
   ]
  },
  {
   "cell_type": "markdown",
   "id": "45b0a963-2cb3-4efb-b686-b32cfd0f713b",
   "metadata": {},
   "source": [
    "## Chargement de la maille PIMMS"
   ]
  },
  {
   "cell_type": "code",
   "execution_count": null,
   "id": "d4ee7750-59f6-459b-85c2-2d36ef3166f8",
   "metadata": {},
   "outputs": [],
   "source": [
    "# Chargement de la maille et des réglages optimisés des sextupoles d'extraction\n",
    "env = xt.load(\"inputs/pimms.json\")\n",
    "env.vars.load_json(\"inputs/extraction_sextupoles.json\")\n",
    "ring = env.pimms\n",
    "ring.configure_bend_model(edge=\"full\", core=\"adaptive\", num_multipole_kicks=5)\n",
    "twiss = ring.twiss4d()"
   ]
  },
  {
   "cell_type": "markdown",
   "id": "61f0505a-f23a-47dd-8377-bf2676590ae1",
   "metadata": {},
   "source": [
    "## Création d'un paquet de particules\n",
    "\n",
    "Pour cet exemple nous préparons manuellement les coordonées pour avoir, longitudinalement, un faisceau continu. Le paquet xpart expose des fonctionalités pour créer automatiquement différents types de faisceaux adaptés à la machine."
   ]
  },
  {
   "cell_type": "code",
   "execution_count": null,
   "id": "fb264dce-4cdc-4f92-974f-bb151fa5637f",
   "metadata": {},
   "outputs": [],
   "source": [
    "num_particles = 2500  # macroparticules\n",
    "beam_intensity = 1e10  # protons\n",
    "\n",
    "# Distributions Gaussiennes en espace des phases normalisés transverses\n",
    "x_norm = np.random.normal(size=num_particles)\n",
    "px_norm = np.random.normal(size=num_particles)\n",
    "y_norm = np.random.normal(size=num_particles)\n",
    "py_norm = np.random.normal(size=num_particles)\n",
    "\n",
    "# Distribution Gaussienne des momenta longitudinaux (rms spread 5e-4)\n",
    "# et temps d'arrivée des particules réparti sur un tour\n",
    "delta = 5e-4 * np.random.normal(size=num_particles)\n",
    "zeta = np.random.uniform(size=num_particles) * ring.get_length()\n",
    "\n",
    "# Création de l'objet de particules\n",
    "particles = ring.build_particles(\n",
    "    x_norm=x_norm,\n",
    "    px_norm=px_norm,\n",
    "    y_norm=y_norm,\n",
    "    py_norm=py_norm,\n",
    "    delta=delta,\n",
    "    zeta=zeta,\n",
    "    method=\"4d\",\n",
    "    weight=beam_intensity / num_particles,\n",
    "    nemitt_x=1.5e-6,\n",
    "    nemitt_y=1e-6,\n",
    ")\n",
    "\n",
    "# Sauvegarde de la distribution initiale\n",
    "p0 = particles.copy()"
   ]
  },
  {
   "cell_type": "code",
   "execution_count": null,
   "id": "fab8c35c-5d2d-4688-a304-f6699386dc82",
   "metadata": {},
   "outputs": [],
   "source": [
    "xplt.PhaseSpacePlot(particles)\n",
    "plt.tight_layout()"
   ]
  },
  {
   "cell_type": "markdown",
   "id": "e18d8b57-ee12-4e34-a6da-e2d556981bf7",
   "metadata": {},
   "source": [
    "## Définition du comportement temporel des sextupôles d’extraction"
   ]
  },
  {
   "cell_type": "code",
   "execution_count": null,
   "id": "a7271156-81cf-4873-b246-c7fe16b4ac8c",
   "metadata": {},
   "outputs": [],
   "source": [
    "# Il est possible de définir une fonction temporelle (ici linéaire)\n",
    "ring.functions[\"func_sext\"] = xt.FunctionPieceWiseLinear(x=[0, 0.1e-3, 0.5e-3], y=[0, 0, 1.0])"
   ]
  },
  {
   "cell_type": "code",
   "execution_count": null,
   "id": "353d36d6-f734-4055-94a1-3f693005d9fc",
   "metadata": {},
   "outputs": [],
   "source": [
    "# On définit ensuite un lien de l'alimentation des sextupoles à cette fonction\n",
    "ring.vars[\"kse1\"] *= ring.functions[\"func_sext\"](ring.vars[\"t_turn_s\"])\n",
    "ring.vars[\"kse2\"] *= ring.functions[\"func_sext\"](ring.vars[\"t_turn_s\"])\n",
    "\n",
    "# Inspectons l'expression\n",
    "ring.vars[\"kse1\"]._expr"
   ]
  },
  {
   "cell_type": "markdown",
   "id": "e6d6f48c-9714-4405-8ef1-a4302b3bd0d2",
   "metadata": {},
   "source": [
    "## Définition d'une limite d'ouverture réaliste du septum"
   ]
  },
  {
   "cell_type": "code",
   "execution_count": null,
   "id": "8c8f4ab5-ef77-423a-898d-4da23a12ebee",
   "metadata": {},
   "outputs": [],
   "source": [
    "ring[\"septum_aperture\"].max_x = 0.035"
   ]
  },
  {
   "cell_type": "markdown",
   "id": "5b0c00cf-7852-448d-8f34-bdfecba36775",
   "metadata": {},
   "source": [
    "## Utilisation d'un contexte multi-threaded pour la performance"
   ]
  },
  {
   "cell_type": "code",
   "execution_count": null,
   "id": "dee548c0-a60c-4e03-ab32-b431e4443a3a",
   "metadata": {},
   "outputs": [],
   "source": [
    "ring.discard_tracker()\n",
    "context = xo.ContextCpu()\n",
    "# context = xo.ContextCpu(omp_num_threads=\"auto\")  # pour multi-thread\n",
    "ring.build_tracker(_context=context)"
   ]
  },
  {
   "cell_type": "markdown",
   "id": "f742292d-2c7a-4cd0-81bf-0eedfb7eadbb",
   "metadata": {},
   "source": [
    "## Tracking des particules"
   ]
  },
  {
   "cell_type": "code",
   "execution_count": null,
   "id": "57aff32a-6307-4d6d-b4ad-50d24e1b7ddb",
   "metadata": {},
   "outputs": [],
   "source": [
    "def compute_intensity(line: xt.Line, particles: xt.Particles) -> float:\n",
    "    \"\"\"Return the bunch's intensity, in charges.\"\"\"\n",
    "    nplike = particles._context.nplike_lib\n",
    "    particles.hide_lost_particles()\n",
    "    intensity = particles.q0 * nplike.sum(particles.weight)\n",
    "    particles.unhide_lost_particles()\n",
    "    return intensity"
   ]
  },
  {
   "cell_type": "code",
   "execution_count": null,
   "id": "e70bb5bb-a513-4d6e-8927-1dc93a90d8a9",
   "metadata": {},
   "outputs": [],
   "source": [
    "# Definition de quantités à enregistrer pendant le tracking\n",
    "log = xt.Log(\n",
    "    \"kse1\",  # alimentation du premier sextupôle d'extraction\n",
    "    \"kse2\",  # alimentation du second sextupôle d'extraction\n",
    "    intensity=compute_intensity,  # fonction définie par l'utilisateur\n",
    ")"
   ]
  },
  {
   "cell_type": "code",
   "execution_count": null,
   "id": "1f1e755b-094a-43d8-b662-e3e787587a4a",
   "metadata": {},
   "outputs": [],
   "source": [
    "# Activation de la mise à jour temporelle des variables pour le tracking\n",
    "ring.enable_time_dependent_vars = True"
   ]
  },
  {
   "cell_type": "code",
   "execution_count": null,
   "id": "2ed86ef1-c82f-4e8b-9573-194f63406cc3",
   "metadata": {},
   "outputs": [],
   "source": [
    "# Track!\n",
    "ring.track(particles, num_turns=5000, with_progress=25, log=log)"
   ]
  },
  {
   "cell_type": "markdown",
   "id": "5d330dbb-1ce2-40d2-931b-a64f4094fdf1",
   "metadata": {},
   "source": [
    "## Visualisation des quantités enregistrées"
   ]
  },
  {
   "cell_type": "code",
   "execution_count": null,
   "id": "4a2db43b-5a5b-48b0-a572-618d3636fc0e",
   "metadata": {},
   "outputs": [],
   "source": [
    "fig, (ax1, ax2) = plt.subplots(2, 1, sharex=True, figsize=(5, 5))\n",
    "ax1.plot(ring.log_last_track[\"kse1\"], label=\"kse1\")\n",
    "ax1.plot(ring.log_last_track[\"kse2\"], label=\"kse2\")\n",
    "ax1.set_ylabel(\"Alimentation sextupôle [$m^{-2}$]\")\n",
    "\n",
    "ax2.plot(np.array(ring.log_last_track[\"intensity\"]) * 1e-10, c=\"C2\", label=\"Intensité\")\n",
    "ax2.set_ylabel(\"Intensité [$10^{10}$ppb]\")\n",
    "ax2.set_xlabel(\"Tour\")\n",
    "ax2.set_ylim(bottom=0.0)\n",
    "\n",
    "for axis in (ax1, ax2):\n",
    "    axis.legend()\n",
    "    axis.yaxis.set_major_locator(plt.MaxNLocator(5))\n",
    "fig.align_ylabels((ax1, ax2))\n",
    "plt.tight_layout()\n",
    "plt.show()"
   ]
  },
  {
   "cell_type": "markdown",
   "id": "3437895c-f565-4baf-b122-2e04f1b1c9d2",
   "metadata": {},
   "source": [
    "## Visualisation des particules après tracking"
   ]
  },
  {
   "cell_type": "code",
   "execution_count": null,
   "id": "79654ad8-bf70-406c-a914-014644dfc124",
   "metadata": {},
   "outputs": [],
   "source": [
    "alive = particles.state > 0\n",
    "lost = ~alive"
   ]
  },
  {
   "cell_type": "code",
   "execution_count": null,
   "id": "f5412ac3-5dce-4651-afe3-eee97ec76ed4",
   "metadata": {},
   "outputs": [],
   "source": [
    "fig, ax = plt.subplots()\n",
    "ax.plot(particles.x[alive], particles.px[alive], \".\", ms=1, c=\"green\", label=\"En circulation\")\n",
    "ax.plot(particles.x[lost], particles.px[lost], \".\", ms=1, c=\"red\", label=\"Extraites\")\n",
    "ax.set(xlabel=\"$x$ [m]\", ylabel=\"$p_x$\")\n",
    "plt.xlim(-0.03, 0.05)\n",
    "plt.ylim(-3.5e-3, 3.5e-3)\n",
    "ymin, ymax = ax.get_ylim()\n",
    "ax.axvline(x=ring[\"septum_aperture\"].max_x, color=\"k\", alpha=0.4, linestyle=\"--\")\n",
    "ax.text(\n",
    "    ring[\"septum_aperture\"].max_x * 0.98,\n",
    "    ymax * 0.95,\n",
    "    \"Septum\",\n",
    "    rotation=90,\n",
    "    va=\"top\",\n",
    "    ha=\"right\",\n",
    "    alpha=0.5,\n",
    "    c=\"k\",\n",
    ")\n",
    "ax.xaxis.set_major_locator(plt.MaxNLocator(5))\n",
    "ax.yaxis.set_major_locator(plt.MaxNLocator(5))\n",
    "plt.legend()\n",
    "plt.tight_layout()\n",
    "plt.show()"
   ]
  },
  {
   "cell_type": "markdown",
   "id": "446a140a-c9d6-4fb1-a57b-db4e928102ab",
   "metadata": {},
   "source": [
    "## Introduction d'une excitation transverse pour contrôler l'extraction"
   ]
  },
  {
   "cell_type": "code",
   "execution_count": null,
   "id": "6acb3917-de8e-454e-a97e-f1767d51ec30",
   "metadata": {},
   "outputs": [],
   "source": [
    "# Defintion d'un nouveau type d'élément\n",
    "class SpillExcitation:\n",
    "    def __init__(self):\n",
    "        self.amplitude = 0\n",
    "        self.tune = 0\n",
    "        self.f_rev = 1 / twiss.T_rev0\n",
    "\n",
    "    def track(self, particles):\n",
    "        f_excit = self.tune * self.f_rev\n",
    "        # Time of arrival corrected for delay within the turn\n",
    "        t_particle_pass = (\n",
    "            particles.at_turn[particles.state > 0] / self.f_rev\n",
    "            - particles.zeta[particles.state > 0] / particles.beta0[0] / clight\n",
    "        )\n",
    "        particles.px[particles.state > 0] += self.amplitude * np.sin(2 * np.pi * f_excit * t_particle_pass)"
   ]
  },
  {
   "cell_type": "code",
   "execution_count": null,
   "id": "10355517-5fd0-4167-9078-1b5a590e4132",
   "metadata": {},
   "outputs": [],
   "source": [
    "# Installation de l'élement\n",
    "ring.discard_tracker()\n",
    "ring.insert_element(\"spill_exc\", SpillExcitation(), at_s=0)\n",
    "ring.build_tracker(_context=context)"
   ]
  },
  {
   "cell_type": "code",
   "execution_count": null,
   "id": "c088eead-04b2-49b5-a56e-91bcc1aea705",
   "metadata": {},
   "outputs": [],
   "source": [
    "# Utilisation de l'amplitude et la fréquence de l'excitation pour contrôler l'extraction\n",
    "# Definition de fonctions temporelles de ces propriétés\n",
    "ring.functions[\"fun_excit\"] = xt.FunctionPieceWiseLinear(x=[0, 0.5e-3, 0.7e-3, 4e-3], y=[0, 0, 1e-5, 3.2e-5])\n",
    "ring.functions[\"fun_freq\"] = xt.FunctionPieceWiseLinear(\n",
    "    x=[0, 0.5e-3, 1.5e-3, 4e-3], y=[0.6615, 0.6615, 0.6617, 0.6622]\n",
    ")"
   ]
  },
  {
   "cell_type": "code",
   "execution_count": null,
   "id": "c0bda48d-87ab-463a-83dc-dc3d6db0b7f1",
   "metadata": {},
   "outputs": [],
   "source": [
    "# On définit un lien de l'amplitude et la fréquence à ces fonctions\n",
    "ring.vars[\"ampl_excit\"] = ring.functions[\"fun_excit\"](ring.vars[\"t_turn_s\"])\n",
    "ring.vars[\"freq_excit\"] = ring.functions[\"fun_freq\"](ring.vars[\"t_turn_s\"])"
   ]
  },
  {
   "cell_type": "code",
   "execution_count": null,
   "id": "3aa38482-8d0d-432d-9ace-f5ae2b4ee905",
   "metadata": {},
   "outputs": [],
   "source": [
    "ring.element_refs[\"spill_exc\"].amplitude = ring.vars[\"ampl_excit\"]\n",
    "ring.element_refs[\"spill_exc\"].tune = ring.vars[\"freq_excit\"]"
   ]
  },
  {
   "cell_type": "markdown",
   "id": "3c0b3643-97d0-4981-9841-2c7b9a002d89",
   "metadata": {},
   "source": [
    "## Remise à zéro du model temporel"
   ]
  },
  {
   "cell_type": "code",
   "execution_count": null,
   "id": "8a2bb47b-4796-4383-98eb-6f21340f9438",
   "metadata": {},
   "outputs": [],
   "source": [
    "ring.vars[\"t_turn_s\"] = 0  # temps de la simulation\n",
    "particles = p0.copy(_context=context)  # état initial des particules"
   ]
  },
  {
   "cell_type": "markdown",
   "id": "9a8dff5f-9b61-4874-9f46-8399943a59a2",
   "metadata": {},
   "source": [
    "## Nouveau tracking des particules"
   ]
  },
  {
   "cell_type": "code",
   "execution_count": null,
   "id": "f03dbbc5-b8e3-47cf-90b1-a065159f4fcc",
   "metadata": {},
   "outputs": [],
   "source": [
    "# Definition de quantités à enregistrer pendant le tracking\n",
    "log = xt.Log(\n",
    "    \"kse1\",  # alimentation du premier sextupôle d'extraction\n",
    "    \"kse2\",  # alimentation du second sextupôle d'extraction\n",
    "    \"t_turn_s\",  # temps de simulation\n",
    "    \"ampl_excit\",  # amplitude de l'excitation\n",
    "    \"freq_excit\",  # fréquence de l'excitation\n",
    "    intensity=compute_intensity,  # fonction définie par l'utilisateur\n",
    ")"
   ]
  },
  {
   "cell_type": "code",
   "execution_count": null,
   "id": "7f01d553-b356-4d0e-9af4-c1760853a4d2",
   "metadata": {},
   "outputs": [],
   "source": [
    "# Track!\n",
    "ring.track(particles, num_turns=5000, with_progress=25, log=log)"
   ]
  },
  {
   "cell_type": "markdown",
   "id": "0d4d9634-c115-4b7b-8d37-2ef9156a2185",
   "metadata": {},
   "source": [
    "## Visualisation des quantités enregistrées"
   ]
  },
  {
   "cell_type": "code",
   "execution_count": null,
   "id": "863352a0-e5cb-4a21-9e7a-f29d83426c43",
   "metadata": {},
   "outputs": [],
   "source": [
    "fig, (ax1, ax2, ax3, ax4) = plt.subplots(4, 1, sharex=True, figsize=(5, 7))\n",
    "t_ms = np.array(ring.log_last_track[\"t_turn_s\"]) * 1e3  # temps en [ms]\n",
    "\n",
    "ax1.plot(t_ms, ring.log_last_track[\"kse1\"], label=\"kse1\")\n",
    "ax1.plot(t_ms, ring.log_last_track[\"kse2\"], label=\"kse2\")\n",
    "ax1.set_ylabel(\"Alim. sext. [$m^{-2}$]\")\n",
    "\n",
    "ax2.plot(t_ms, np.array(ring.log_last_track[\"intensity\"]) * 1e-10, c=\"C2\", label=\"Intensité\")\n",
    "ax2.set_ylabel(\"Intensité [$10^{10}$ppb]\")\n",
    "ax2.set_ylim(bottom=0.0)\n",
    "\n",
    "ax3.plot(t_ms, ring.log_last_track[\"ampl_excit\"], c=\"C3\", label=\"Amplitude\")\n",
    "ax3.set_ylim(bottom=0.0)\n",
    "ax3.set_ylabel(\"Ampl. d'excitation\")\n",
    "\n",
    "ax4.plot(t_ms, ring.log_last_track[\"freq_excit\"], c=\"C4\", label=\"Fréquence\")\n",
    "ax4.set_ylabel(\"Fréq. d'excitation\")\n",
    "ax4.set_xlabel(\"Temps [ms]\")\n",
    "\n",
    "for axis in (ax1, ax2, ax3, ax4):\n",
    "    axis.legend()\n",
    "    axis.yaxis.set_major_locator(plt.MaxNLocator(5))\n",
    "\n",
    "fig.align_ylabels((ax1, ax2, ax3, ax4))\n",
    "plt.tight_layout()\n",
    "plt.show()"
   ]
  },
  {
   "cell_type": "markdown",
   "id": "e5e15bd9-7278-4486-82f0-8eb0f1bb7052",
   "metadata": {},
   "source": [
    "## Visualisation des particules après second tracking"
   ]
  },
  {
   "cell_type": "code",
   "execution_count": null,
   "id": "fa9cdc9c-bdcc-4096-9cfe-7e00836fca2e",
   "metadata": {},
   "outputs": [],
   "source": [
    "alive = particles.state > 0\n",
    "lost = ~alive"
   ]
  },
  {
   "cell_type": "code",
   "execution_count": null,
   "id": "088c0457-e902-4e9c-a0cf-5afaa6244c4c",
   "metadata": {},
   "outputs": [],
   "source": [
    "fig, ax = plt.subplots()\n",
    "ax.plot(particles.x[alive], particles.px[alive], \".\", ms=1, c=\"green\", label=\"En circulation\")\n",
    "ax.plot(particles.x[lost], particles.px[lost], \".\", ms=1, c=\"red\", label=\"Extraites\")\n",
    "ax.set(xlabel=\"$x$ [m]\", ylabel=\"$p_x$\")\n",
    "plt.xlim(-0.03, 0.05)\n",
    "plt.ylim(-3.5e-3, 3.5e-3)\n",
    "ymin, ymax = ax.get_ylim()\n",
    "ax.axvline(x=ring[\"septum_aperture\"].max_x, color=\"k\", alpha=0.4, linestyle=\"--\")\n",
    "ax.text(\n",
    "    ring[\"septum_aperture\"].max_x * 0.98,\n",
    "    ymax * 0.95,\n",
    "    \"Septum\",\n",
    "    rotation=90,\n",
    "    va=\"top\",\n",
    "    ha=\"right\",\n",
    "    alpha=0.5,\n",
    "    c=\"k\",\n",
    ")\n",
    "ax.xaxis.set_major_locator(plt.MaxNLocator(5))\n",
    "ax.yaxis.set_major_locator(plt.MaxNLocator(5))\n",
    "plt.legend()\n",
    "plt.tight_layout()\n",
    "plt.show()"
   ]
  },
  {
   "cell_type": "markdown",
   "id": "f4450590-1ad6-4966-a63c-b3dc809b7b25",
   "metadata": {},
   "source": [
    "---"
   ]
  }
 ],
 "metadata": {
  "kernelspec": {
   "display_name": "xsuite",
   "language": "python",
   "name": "xsuite"
  },
  "language_info": {
   "codemirror_mode": {
    "name": "ipython",
    "version": 3
   },
   "file_extension": ".py",
   "mimetype": "text/x-python",
   "name": "python",
   "nbconvert_exporter": "python",
   "pygments_lexer": "ipython3",
   "version": "3.13.5"
  }
 },
 "nbformat": 4,
 "nbformat_minor": 5
}
