{
 "cells": [
  {
   "cell_type": "markdown",
   "id": "25c8e5bc-f68a-46c2-bbe0-59c649aadcbd",
   "metadata": {},
   "source": [
    "# Charactérisation de l'espace des phases pour extraction lente\n",
    "\n",
    "Dans cet exemple nous nous intéresserons à l'espace des phases lors de l'excitation d'une résonance du troisième ordre pour l'extraction lente.\n",
    "Nous déterminerons sa topologie, les régions stables et instables, la séparatrice ainsi que sa pente à l'endroit du septum."
   ]
  },
  {
   "cell_type": "code",
   "execution_count": null,
   "id": "62f2fc39-6b86-4b70-9924-2fc5ce01baca",
   "metadata": {},
   "outputs": [],
   "source": [
    "import matplotlib.pyplot as plt\n",
    "import numpy as np\n",
    "import xtrack as xt\n",
    "from helpers import arrange_phase_space_plot\n",
    "\n",
    "%config InlineBackend.figure_format = \"retina\""
   ]
  },
  {
   "cell_type": "markdown",
   "id": "96017271-e0c2-4eea-b74f-174fed237562",
   "metadata": {},
   "source": [
    "## Chargement de la maille PIMMS"
   ]
  },
  {
   "cell_type": "code",
   "execution_count": null,
   "id": "07656e9e-f5a3-48c5-bf8c-7e65fa3c4c30",
   "metadata": {},
   "outputs": [],
   "source": [
    "env = xt.load(\"inputs/pimms.json\")\n",
    "ring = env.pimms\n",
    "ring.configure_bend_model(edge=\"full\", core=\"adaptive\", num_multipole_kicks=5)"
   ]
  },
  {
   "cell_type": "code",
   "execution_count": null,
   "id": "1a5e628f-ed6a-4c7d-8b32-7382ace9e152",
   "metadata": {},
   "outputs": [],
   "source": [
    "# Alimentation des sextupoles d'extraction\n",
    "env[\"kse1\"] = 1\n",
    "env[\"kse2\"] = -6.5"
   ]
  },
  {
   "cell_type": "markdown",
   "id": "0c7065f6-28ef-40a5-aee8-fb2aa6695e0e",
   "metadata": {},
   "source": [
    "## Topologie de l'espace des phases avec excitation de la résonance"
   ]
  },
  {
   "cell_type": "code",
   "execution_count": null,
   "id": "5f5706c6-8c2e-481e-a71b-03d89d977ba5",
   "metadata": {},
   "outputs": [],
   "source": [
    "# Génération de 20 particules sur l'axe horizontal\n",
    "x_gen = np.linspace(0, 2.5e-2, 25)\n",
    "parts = ring.build_particles(x=x_gen, px=0, y=0, py=0, zeta=0, delta=0)\n",
    "\n",
    "# Tracking des particules pour 1000 tours\n",
    "ring.track(parts, num_turns=1000, turn_by_turn_monitor=True)\n",
    "record = ring.record_last_track"
   ]
  },
  {
   "cell_type": "code",
   "execution_count": null,
   "id": "80952f0e-7f02-4806-8184-e8baa9f3b475",
   "metadata": {},
   "outputs": [],
   "source": [
    "%%capture\n",
    "# Il est possible d'obtenir facilement les coordonnées normalisées\n",
    "twiss = ring.twiss4d()\n",
    "norm_coords = twiss.get_normalized_coordinates(record)"
   ]
  },
  {
   "cell_type": "code",
   "execution_count": null,
   "id": "6f750f1f-06bf-48ff-af50-e4311c3b58b3",
   "metadata": {},
   "outputs": [],
   "source": [
    "# Visualisons les deux espaces des phases côte-à-côte\n",
    "fig, ax_geom, ax_norm = arrange_phase_space_plot()\n",
    "x_septum = 3.5e-2\n",
    "ymin, ymax = ax_geom.get_ylim()\n",
    "ax_geom.plot(record.x.T, record.px.T, \".\", markersize=1, color=\"C0\")\n",
    "ax_norm.plot(norm_coords.x_norm.T, norm_coords.px_norm.T, \".\", markersize=1, color=\"C0\")\n",
    "ax_geom.axvline(x=x_septum, color=\"k\", alpha=0.4, linestyle=\"--\")\n",
    "ax_geom.text(x_septum * 0.98, ymax * 0.95, \"Septum\", rotation=90, va=\"top\", ha=\"right\", alpha=0.5, c=\"k\")\n",
    "plt.tight_layout()"
   ]
  },
  {
   "cell_type": "markdown",
   "id": "c5581bed-fadb-40fd-80b9-fb0e9f8c3504",
   "metadata": {},
   "source": [
    "## Identification de la séparatrice\n",
    "\n",
    "Une boucle logique de recherche binaire permet de localiser la transition entre les régions de motion stable et instable."
   ]
  },
  {
   "cell_type": "code",
   "execution_count": null,
   "id": "a8e6616f-eddb-4682-bc71-267dfb914845",
   "metadata": {
    "scrolled": true
   },
   "outputs": [],
   "source": [
    "# Région de recherche de la séparatrice\n",
    "search_region = [0, 0.03]\n",
    "num_turns = 1000"
   ]
  },
  {
   "cell_type": "code",
   "execution_count": null,
   "id": "70646321-fd00-44ed-aaad-465711158c70",
   "metadata": {},
   "outputs": [],
   "source": [
    "# Recherche binaire via tracking\n",
    "while search_region[1] - search_region[0] > 1e-6:\n",
    "    # Génération d'une particule au centre de la région\n",
    "    x_test = (search_region[0] + search_region[1]) / 2\n",
    "    p = ring.build_particles(x=x_test, px=0)\n",
    "\n",
    "    # Tracking de la particule\n",
    "    ring.track(p, num_turns=num_turns, turn_by_turn_monitor=True)\n",
    "    rec_test = ring.record_last_track\n",
    "\n",
    "    # Mise à jour de la région de recherche\n",
    "    if (rec_test.x > x_septum).any():\n",
    "        # La particle test est instable\n",
    "        # => Séparatrice à droite de x_test\n",
    "        search_region[1] = x_test\n",
    "    else:\n",
    "        # La particle test est stable\n",
    "        # => Séparatrice à gauche de x_test\n",
    "        search_region[0] = x_test\n",
    "\n",
    "# On peut voir les limites de la région\n",
    "print(search_region)"
   ]
  },
  {
   "cell_type": "code",
   "execution_count": null,
   "id": "7417e8bc-6957-47ce-bbd8-94067bd7f52b",
   "metadata": {},
   "outputs": [],
   "source": [
    "%%capture\n",
    "# On track une particule juste au-delà des limites de cette région\n",
    "p = ring.build_particles(x=search_region[1])\n",
    "ring.track(p, num_turns=num_turns, turn_by_turn_monitor=True)\n",
    "rec_separatrice = ring.record_last_track\n",
    "norm_separatrice = twiss.get_normalized_coordinates(rec_separatrice)  # coordonnées normalisées"
   ]
  },
  {
   "cell_type": "code",
   "execution_count": null,
   "id": "53eb14aa-0986-4843-a8a6-1b526d6092d8",
   "metadata": {},
   "outputs": [],
   "source": [
    "# On peut rajouter la séparatrice à la topologie de l'espace des phases\n",
    "fig, ax_geom, ax_norm = arrange_phase_space_plot()\n",
    "ymin, ymax = ax_geom.get_ylim()\n",
    "ax_geom.plot(record.x.T, record.px.T, \".\", markersize=1, color=\"C0\")\n",
    "ax_norm.plot(norm_coords.x_norm.T, norm_coords.px_norm.T, \".\", markersize=1, color=\"C0\")\n",
    "ax_geom.axvline(x=x_septum, color=\"k\", alpha=0.4, linestyle=\"--\")\n",
    "ax_geom.text(x_septum * 0.98, ymax * 0.95, \"Septum\", rotation=90, va=\"top\", ha=\"right\", alpha=0.5, c=\"k\")\n",
    "\n",
    "# Rajout de la séparatrice identifiée\n",
    "mask_alive = rec_separatrice.state > 0\n",
    "for ii in range(3):\n",
    "    ax_geom.plot(\n",
    "        rec_separatrice.x[mask_alive][ii::3],\n",
    "        rec_separatrice.px[mask_alive][ii::3],\n",
    "        \"-\",\n",
    "        lw=2,\n",
    "        color=\"C1\",\n",
    "        alpha=0.9,\n",
    "    )\n",
    "    ax_norm.plot(\n",
    "        norm_separatrice.x_norm[mask_alive][ii::3],\n",
    "        norm_separatrice.px_norm[mask_alive][ii::3],\n",
    "        \"-\",\n",
    "        lw=2,\n",
    "        color=\"C1\",\n",
    "        alpha=0.9,\n",
    "    )\n",
    "\n",
    "plt.tight_layout()"
   ]
  },
  {
   "cell_type": "markdown",
   "id": "2df95a29-89b8-431e-8ce8-ee92b9234277",
   "metadata": {},
   "source": [
    "## Mesure de la pente de la séparatrice au septum"
   ]
  },
  {
   "cell_type": "code",
   "execution_count": null,
   "id": "5d9f3587-ed4a-4136-a09a-13f707578038",
   "metadata": {},
   "outputs": [],
   "source": [
    "# Coordonnées de la séparatrice identifiée\n",
    "x_separ = rec_separatrice.x[0, :]\n",
    "px_separ = rec_separatrice.px[0, :]"
   ]
  },
  {
   "cell_type": "code",
   "execution_count": null,
   "id": "d088d3f2-2ee5-44cb-855b-7fd072d65ea9",
   "metadata": {},
   "outputs": [],
   "source": [
    "# Identifions le tour auquel la particule était le plus proche du septum\n",
    "i_septum = np.argmin(np.abs(x_separ - x_septum))\n",
    "\n",
    "# Ajustons la ligne en prenant le passage précédent et le suivant. Il faut 3 tours pour\n",
    "# que la particule retourne sur cette branche, d'où l'offset de 3\n",
    "poly_sep = np.polyfit(\n",
    "    [x_separ[i_septum + 3], x_separ[i_septum - 3]],\n",
    "    [px_separ[i_septum + 3], px_separ[i_septum - 3]],\n",
    "    deg=1,\n",
    ")\n",
    "dpx_dx_at_septum = poly_sep[0]\n",
    "print(\"dpx_dx_at_septum = \", dpx_dx_at_septum)"
   ]
  },
  {
   "cell_type": "code",
   "execution_count": null,
   "id": "d8765f75-64dc-45fb-8d8d-dcbcb93d0c01",
   "metadata": {},
   "outputs": [],
   "source": [
    "# On peut rajouter la pente à la topologie de l'espace des phases\n",
    "fig, ax_geom, ax_norm = arrange_phase_space_plot()\n",
    "ymin, ymax = ax_geom.get_ylim()\n",
    "ax_geom.plot(record.x.T, record.px.T, \".\", markersize=1, color=\"C0\")\n",
    "ax_norm.plot(norm_coords.x_norm.T, norm_coords.px_norm.T, \".\", markersize=1, color=\"C0\")\n",
    "ax_geom.axvline(x=x_septum, color=\"k\", alpha=0.4, linestyle=\"--\")\n",
    "ax_geom.text(x_septum * 0.98, ymax * 0.95, \"Septum\", rotation=90, va=\"top\", ha=\"right\", alpha=0.5, c=\"k\")\n",
    "\n",
    "# Rajout de la séparatrice identifiée\n",
    "mask_alive = rec_separatrice.state > 0\n",
    "for ii in range(3):\n",
    "    ax_geom.plot(\n",
    "        rec_separatrice.x[mask_alive][ii::3],\n",
    "        rec_separatrice.px[mask_alive][ii::3],\n",
    "        \"-\",\n",
    "        lw=2,\n",
    "        color=\"C1\",\n",
    "        alpha=0.9,\n",
    "    )\n",
    "    ax_norm.plot(\n",
    "        norm_separatrice.x_norm[mask_alive][ii::3],\n",
    "        norm_separatrice.px_norm[mask_alive][ii::3],\n",
    "        \"-\",\n",
    "        lw=2,\n",
    "        color=\"C1\",\n",
    "        alpha=0.9,\n",
    "    )\n",
    "\n",
    "# Rajout de la pente de la séparatrice au septum\n",
    "intervale_x_pente = [x_septum - 1e-2, x_septum + 1e-2]\n",
    "ax_geom.plot(intervale_x_pente, np.polyval(poly_sep, intervale_x_pente), \"--k\", linewidth=2)\n",
    "\n",
    "plt.tight_layout()"
   ]
  },
  {
   "cell_type": "markdown",
   "id": "234de9fa-6db8-48d4-ab3a-7cb29c542b0c",
   "metadata": {},
   "source": [
    "## Identification de la zone stable"
   ]
  },
  {
   "cell_type": "code",
   "execution_count": null,
   "id": "9dc97ed4-34b7-4f3d-bf30-e2b2b7879636",
   "metadata": {},
   "outputs": [],
   "source": [
    "# On track une particule juste en-deçà des limites de cette région\n",
    "p = ring.build_particles(x=search_region[0])\n",
    "ring.track(p, num_turns=num_turns, turn_by_turn_monitor=True)\n",
    "rec_triangle = ring.record_last_track\n",
    "nc_triangle = twiss.get_normalized_coordinates(rec_triangle)  # coordonnées normalisées\n",
    "\n",
    "x_triangle = rec_triangle.x[0, :]\n",
    "px_triangle = rec_triangle.px[0, :]\n",
    "x_norm_triangle = nc_triangle.x_norm[0, :]\n",
    "px_norm_triangle = nc_triangle.px_norm[0, :]"
   ]
  },
  {
   "cell_type": "code",
   "execution_count": null,
   "id": "2e496581-9e08-443a-9677-f827a053f6f7",
   "metadata": {},
   "outputs": [],
   "source": [
    "# Trions les coordonnées de la frontière par theta croissant\n",
    "theta_triangle = np.angle(x_norm_triangle + 1j * px_norm_triangle)\n",
    "i_sorted = np.argsort(theta_triangle)\n",
    "\n",
    "x_triangle = x_triangle[i_sorted]\n",
    "px_triangle = px_triangle[i_sorted]\n",
    "x_norm_triangle = x_norm_triangle[i_sorted]\n",
    "px_norm_triangle = px_norm_triangle[i_sorted]"
   ]
  },
  {
   "cell_type": "code",
   "execution_count": null,
   "id": "a30563ba-feff-4b9b-afaf-4f73062c7254",
   "metadata": {},
   "outputs": [],
   "source": [
    "# On peut rajouter la zone stable à la topologie de l'espace des phases\n",
    "fig, ax_geom, ax_norm = arrange_phase_space_plot()\n",
    "ymin, ymax = ax_geom.get_ylim()\n",
    "ax_geom.plot(record.x.T, record.px.T, \".\", markersize=1, color=\"C0\")\n",
    "ax_norm.plot(norm_coords.x_norm.T, norm_coords.px_norm.T, \".\", markersize=1, color=\"C0\")\n",
    "ax_geom.axvline(x=x_septum, color=\"k\", alpha=0.4, linestyle=\"--\")\n",
    "ax_geom.text(x_septum * 0.98, ymax * 0.95, \"Septum\", rotation=90, va=\"top\", ha=\"right\", alpha=0.5, c=\"k\")\n",
    "\n",
    "# Rajout de la séparatrice identifiée\n",
    "mask_alive = rec_separatrice.state > 0\n",
    "for ii in range(3):\n",
    "    ax_geom.plot(\n",
    "        rec_separatrice.x[mask_alive][ii::3],\n",
    "        rec_separatrice.px[mask_alive][ii::3],\n",
    "        \"-\",\n",
    "        lw=2,\n",
    "        color=\"C1\",\n",
    "        alpha=0.9,\n",
    "    )\n",
    "    ax_norm.plot(\n",
    "        norm_separatrice.x_norm[mask_alive][ii::3],\n",
    "        norm_separatrice.px_norm[mask_alive][ii::3],\n",
    "        \"-\",\n",
    "        lw=2,\n",
    "        color=\"C1\",\n",
    "        alpha=0.9,\n",
    "    )\n",
    "\n",
    "# Rajout de la pente de la séparatrice au septum\n",
    "intervale_x_pente = [x_septum - 1e-2, x_septum + 1e-2]\n",
    "ax_geom.plot(intervale_x_pente, np.polyval(poly_sep, intervale_x_pente), \"--k\", linewidth=2)\n",
    "\n",
    "# Rajout des limites de la zone stable\n",
    "ax_geom.plot(x_triangle, px_triangle, \"-\", lw=2, color=\"C2\", alpha=0.9)\n",
    "ax_norm.plot(x_norm_triangle, px_norm_triangle, \"-\", lw=2, color=\"C2\", alpha=0.9)\n",
    "\n",
    "plt.tight_layout()"
   ]
  },
  {
   "cell_type": "markdown",
   "id": "38551bb9-0c05-488d-832f-74a5e0dff913",
   "metadata": {},
   "source": [
    "## Identification des points fixes"
   ]
  },
  {
   "cell_type": "code",
   "execution_count": null,
   "id": "c5a199d2-1d2d-490e-a7d1-41e63e7e9e91",
   "metadata": {},
   "outputs": [],
   "source": [
    "# Obtenons les coordonnées polaires (z, theta) correspondantes\n",
    "z_triangle = rec_triangle.x[0, :] + 1j * rec_triangle.px[0, :]\n",
    "z_triangle_norm = nc_triangle.x_norm[0, :] + 1j * nc_triangle.px_norm[0, :]\n",
    "r_triangle_norm = np.abs(z_triangle_norm)"
   ]
  },
  {
   "cell_type": "code",
   "execution_count": null,
   "id": "c5c6b296-8925-4334-90e9-e48749e1dae0",
   "metadata": {},
   "outputs": [],
   "source": [
    "# Cherchons le point du triangle avec la plus grande amplitude\n",
    "# Ce sera notre premier point fixe\n",
    "i_fp1 = np.argmax(r_triangle_norm)\n",
    "z_fp1 = z_triangle_norm[i_fp1]\n",
    "r_fp1 = np.abs(z_fp1)"
   ]
  },
  {
   "cell_type": "code",
   "execution_count": null,
   "id": "a6d2924b-9aab-4c91-afda-6b0bbaae897f",
   "metadata": {},
   "outputs": [],
   "source": [
    "# Cherchons l'amplitude locale maximale à +/- 120 degrés du premier point fixe\n",
    "mask_fp2 = np.abs(z_triangle_norm - z_fp1 * np.exp(1j * 2 / 3 * np.pi)) < 0.2 * r_fp1\n",
    "i_fp2 = np.argmax(r_triangle_norm * mask_fp2)\n",
    "mask_fp3 = np.abs(z_triangle_norm - z_fp1 * np.exp(-1j * 2 / 3 * np.pi)) < 0.2 * r_fp1\n",
    "i_fp3 = np.argmax(r_triangle_norm * mask_fp3)"
   ]
  },
  {
   "cell_type": "code",
   "execution_count": null,
   "id": "5fd4e6ef-a134-476c-bce1-671464971c18",
   "metadata": {},
   "outputs": [],
   "source": [
    "# Construisons un array avec nos points fixes\n",
    "x_fp = z_triangle[[i_fp1, i_fp2, i_fp3]].real\n",
    "px_fp = z_triangle[[i_fp1, i_fp2, i_fp3]].imag\n",
    "x_norm_fp = z_triangle_norm[[i_fp1, i_fp2, i_fp3]].real\n",
    "px_norm_fp = z_triangle_norm[[i_fp1, i_fp2, i_fp3]].imag\n",
    "x_norm_fp"
   ]
  },
  {
   "cell_type": "code",
   "execution_count": null,
   "id": "74a68ad6-3c21-40e6-8f66-dcdcd0c3dba2",
   "metadata": {},
   "outputs": [],
   "source": [
    "# On peut rajouter les points fixes à la topologie de l'espace des phases\n",
    "fig, ax_geom, ax_norm = arrange_phase_space_plot()\n",
    "ymin, ymax = ax_geom.get_ylim()\n",
    "ax_geom.plot(record.x.T, record.px.T, \".\", markersize=1, color=\"C0\")\n",
    "ax_norm.plot(norm_coords.x_norm.T, norm_coords.px_norm.T, \".\", markersize=1, color=\"C0\")\n",
    "ax_geom.axvline(x=x_septum, color=\"k\", alpha=0.4, linestyle=\"--\")\n",
    "ax_geom.text(x_septum * 0.98, ymax * 0.95, \"Septum\", rotation=90, va=\"top\", ha=\"right\", alpha=0.5, c=\"k\")\n",
    "\n",
    "# Rajout de la séparatrice identifiée\n",
    "mask_alive = rec_separatrice.state > 0\n",
    "for ii in range(3):\n",
    "    ax_geom.plot(\n",
    "        rec_separatrice.x[mask_alive][ii::3],\n",
    "        rec_separatrice.px[mask_alive][ii::3],\n",
    "        \"-\",\n",
    "        lw=2,\n",
    "        color=\"C1\",\n",
    "        alpha=0.9,\n",
    "    )\n",
    "    ax_norm.plot(\n",
    "        norm_separatrice.x_norm[mask_alive][ii::3],\n",
    "        norm_separatrice.px_norm[mask_alive][ii::3],\n",
    "        \"-\",\n",
    "        lw=2,\n",
    "        color=\"C1\",\n",
    "        alpha=0.9,\n",
    "    )\n",
    "\n",
    "# Rajout de la pente de la séparatrice au septum\n",
    "intervale_x_pente = [x_septum - 1e-2, x_septum + 1e-2]\n",
    "ax_geom.plot(intervale_x_pente, np.polyval(poly_sep, intervale_x_pente), \"--k\", linewidth=2)\n",
    "\n",
    "# Rajout des limites de la zone stable\n",
    "ax_geom.plot(x_triangle, px_triangle, \"-\", lw=2, color=\"C2\", alpha=0.9)\n",
    "ax_norm.plot(x_norm_triangle, px_norm_triangle, \"-\", lw=2, color=\"C2\", alpha=0.9)\n",
    "\n",
    "# Rajout des points fixes\n",
    "ax_geom.plot(x_fp, px_fp, \"*\", markersize=10, color=\"k\")\n",
    "ax_norm.plot(x_norm_fp, px_norm_fp, \"*\", markersize=10, color=\"k\")\n",
    "\n",
    "plt.tight_layout()"
   ]
  },
  {
   "cell_type": "markdown",
   "id": "ab0c1aa2-cdf8-4d70-ba12-7a504f47a4e9",
   "metadata": {},
   "source": [
    "## Calcul de l'aire de la région stable"
   ]
  },
  {
   "cell_type": "code",
   "execution_count": null,
   "id": "b84bfa10-691e-4e7d-a66a-6d6807fc8586",
   "metadata": {},
   "outputs": [],
   "source": [
    "# L'aire correspond au déterminant de la matrice des sommets\n",
    "# (le résultat est identique peu importe les coordonnées utilisées)\n",
    "stable_area = np.linalg.det([x_norm_fp, px_norm_fp, [1, 1, 1]])"
   ]
  },
  {
   "cell_type": "code",
   "execution_count": null,
   "id": "87484a22-e350-461e-ab37-e94d22da6ef1",
   "metadata": {},
   "outputs": [],
   "source": [
    "# Quelques résumés\n",
    "print(f\"Pente de la séparatrice au septum : {dpx_dx_at_septum=:f}\")\n",
    "print()\n",
    "print(\"Coordonnées physiques des points fixes :\")\n",
    "print(f\"    x :  {x_fp}\")\n",
    "print(f\"    px : {px_fp}\")\n",
    "print()\n",
    "print(\"Coordonnées normalisées des points fixes :\")\n",
    "print(f\"    x_norm :  {x_norm_fp}\")\n",
    "print(f\"    px_norm : {px_norm_fp}\")\n",
    "print()\n",
    "print(f\"Aire de la région stable : {stable_area}\")"
   ]
  },
  {
   "cell_type": "markdown",
   "id": "762d8ca4-99ea-4b2f-b0a6-15fd8a90a118",
   "metadata": {},
   "source": [
    "---"
   ]
  }
 ],
 "metadata": {
  "kernelspec": {
   "display_name": "xsuite",
   "language": "python",
   "name": "xsuite"
  },
  "language_info": {
   "codemirror_mode": {
    "name": "ipython",
    "version": 3
   },
   "file_extension": ".py",
   "mimetype": "text/x-python",
   "name": "python",
   "nbconvert_exporter": "python",
   "pygments_lexer": "ipython3",
   "version": "3.13.5"
  }
 },
 "nbformat": 4,
 "nbformat_minor": 5
}
