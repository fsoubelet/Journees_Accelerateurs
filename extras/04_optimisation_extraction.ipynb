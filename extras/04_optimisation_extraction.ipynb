{
 "cells": [
  {
   "cell_type": "markdown",
   "id": "7803b121-550e-4b1d-915a-c3eaf3cfabba",
   "metadata": {},
   "source": [
    "# Optimisation de l'espace des phases pour extraction lente\n",
    "\n"
   ]
  },
  {
   "cell_type": "code",
   "execution_count": null,
   "id": "c9848891-7c29-4bc5-9a61-aa9b88471ed0",
   "metadata": {},
   "outputs": [],
   "source": [
    "import matplotlib.pyplot as plt\n",
    "import numpy as np\n",
    "import xtrack as xt\n",
    "from helpers import characterize_phase_space\n",
    "\n",
    "%config InlineBackend.figure_format = \"retina\""
   ]
  },
  {
   "cell_type": "markdown",
   "id": "5f789522-2ab5-45e6-b27d-fc1ca0badc0d",
   "metadata": {},
   "source": [
    "## Chargement de la maille PIMMS"
   ]
  },
  {
   "cell_type": "code",
   "execution_count": null,
   "id": "75c95171-9f23-4b20-8bfd-5145bf972372",
   "metadata": {},
   "outputs": [],
   "source": [
    "env = xt.load(\"inputs/pimms.json\")\n",
    "ring = env.pimms\n",
    "\n",
    "# Alimentation des sextupoles d'extraction\n",
    "env[\"kse1\"] = 1\n",
    "env[\"kse2\"] = -6.5"
   ]
  },
  {
   "cell_type": "markdown",
   "id": "f6af8b9f-d6b3-47d2-b5e5-079851fe2f97",
   "metadata": {},
   "source": [
    "## Charactérisation de l'espace des phases\n",
    "\n",
    "Les fonctionalités du notebook précédent ont été implémentées en une fonction, pour aisance par la suite."
   ]
  },
  {
   "cell_type": "code",
   "execution_count": null,
   "id": "45857e91-baf0-4ba5-8a9e-d46a83bb445d",
   "metadata": {},
   "outputs": [],
   "source": [
    "characterize_phase_space(ring)"
   ]
  },
  {
   "cell_type": "code",
   "execution_count": null,
   "id": "6fddb1ec-8e3a-40f7-ba3c-37d830b5773a",
   "metadata": {},
   "outputs": [],
   "source": [
    "# La chractérisation (sans visualisation) est rapide !\n",
    "%time res = characterize_phase_space(ring, plot=False)"
   ]
  },
  {
   "cell_type": "markdown",
   "id": "c3a00203-8dd4-405b-bcee-d48e2e612222",
   "metadata": {},
   "source": [
    "## Optimisation de la résonance\n",
    "\n",
    "Utilisons les résultats de la function de charactérisation pour notre optimisation. Entre autres nous aimerions contrôler l'orientation de la séparatrice et la taille de la zone stable."
   ]
  },
  {
   "cell_type": "code",
   "execution_count": null,
   "id": "29582848-cf90-48f8-b368-2d1b4edfb4e1",
   "metadata": {},
   "outputs": [],
   "source": [
    "# Dans Xsuite, il est possible de définir une Action à fournir pour les optimiseurs\n",
    "class ActionSeparatrix(xt.Action):\n",
    "\n",
    "    def __init__(self, line):\n",
    "        self.line = line\n",
    "\n",
    "    def run(self):\n",
    "        return characterize_phase_space(self.line, plot=False)"
   ]
  },
  {
   "cell_type": "code",
   "execution_count": null,
   "id": "8bbdc307-d220-47dd-9c5d-0e519beaf128",
   "metadata": {},
   "outputs": [],
   "source": [
    "# Construisons et testons notre action\n",
    "action = ActionSeparatrix(ring)\n",
    "action.run()"
   ]
  },
  {
   "cell_type": "code",
   "execution_count": null,
   "id": "948b468d-9c5e-4d9d-9180-1eb60940b83a",
   "metadata": {},
   "outputs": [],
   "source": [
    "# Il est possible de créer des cibles d'optimization depuis l'action\n",
    "# Nous agissons sur l'alimentation des sextupoles d'extraction\n",
    "opt = ring.match(\n",
    "    solve=False,\n",
    "    method=\"4d\",\n",
    "    vary=xt.VaryList([\"kse1\", \"kse2\"], step=0.5, limits=[-7, 7]),\n",
    "    targets=[\n",
    "        action.target(\"stable_area\", 1.0e-4, tol=1e-5, weight=100),\n",
    "        action.target(\"dpx_dx_at_septum\", 0.03, tol=5e-4),\n",
    "    ],\n",
    ")\n",
    "opt.target_status()"
   ]
  },
  {
   "cell_type": "markdown",
   "id": "221f74ce-75fb-4562-a374-9351f6a733f9",
   "metadata": {},
   "source": [
    "## Utilisation d'un optimiseur externe\n",
    "\n",
    "On pourrait obtenir la solution simplement en appelant `opt.solve()`, qui utilise l’optimiseur interne d'Xsuite.\n",
    "Cependant, pour certains problèmes l'on pourrait vouloir utiliser un optimiseur différent (par exemple sans dérivées) s’il est mieux adapté au problème à résoudre.\n",
    "Ici, nous montrons comment appliquer l’optimiseur Py-BOBYQA à notre problème de matching non linéaire."
   ]
  },
  {
   "cell_type": "code",
   "execution_count": null,
   "id": "ffd82737-a234-4e09-a496-403d1c49d566",
   "metadata": {},
   "outputs": [],
   "source": [
    "# Extraction d'une fonction de mérite pour l'optimiseur\n",
    "merit_function = opt.get_merit_function(\n",
    "    return_scalar=True,  # Py-BOBYQA veut une fonction retournant un scalaire\n",
    "    check_limits=False,  # Py-BOBYQA aime explorer en-dehors des limites imposées\n",
    ")"
   ]
  },
  {
   "cell_type": "code",
   "execution_count": null,
   "id": "8d7ddec1-23ce-4f87-bc06-5c7f383c6217",
   "metadata": {},
   "outputs": [],
   "source": [
    "# Extraction des limites et du point de départ de la fonction de mérite\n",
    "bounds = merit_function.get_x_limits()\n",
    "x0 = merit_function.get_x()"
   ]
  },
  {
   "cell_type": "code",
   "execution_count": null,
   "id": "b5ee79c3-9c1b-4695-94ca-37ea20f72e83",
   "metadata": {},
   "outputs": [],
   "source": [
    "# Recherche d'optimum en utilisant Py-BOBYQA\n",
    "import pybobyqa\n",
    "\n",
    "soln = pybobyqa.solve(\n",
    "    merit_function,\n",
    "    x0=x0,\n",
    "    bounds=bounds.T,  # pybobyqa veut une transposée...\n",
    "    rhobeg=5,\n",
    "    rhoend=1e-4,\n",
    "    maxfun=30,\n",
    "    objfun_has_noise=True,  # <-- utile pour notre cas\n",
    "    seek_global_minimum=True,\n",
    ")\n",
    "soln.x  # correspond à kse1, kse2"
   ]
  },
  {
   "cell_type": "code",
   "execution_count": null,
   "id": "f6743ff9-42d3-4c50-b141-dda66eb90b7b",
   "metadata": {},
   "outputs": [],
   "source": [
    "# Implémentation de ces valeurs\n",
    "merit_function.set_x(soln.x)"
   ]
  },
  {
   "cell_type": "code",
   "execution_count": null,
   "id": "2237cfd1-3d37-4915-b255-334a1c3c9509",
   "metadata": {},
   "outputs": [],
   "source": [
    "# Status après optimisation\n",
    "opt.target_status()\n",
    "opt.vary_status()"
   ]
  },
  {
   "cell_type": "code",
   "execution_count": null,
   "id": "fc0d99d1-7ea7-4875-b4d4-f056b9df0826",
   "metadata": {},
   "outputs": [],
   "source": [
    "# Nous pouvons tagger la solution dans l'optimisateur d'Xsuite,\n",
    "# ce qui correspond à un checkpoint ou l'on peut toujours revenir\n",
    "opt.tag(\"bobyqa solution\")"
   ]
  },
  {
   "cell_type": "code",
   "execution_count": null,
   "id": "220f696f-d3f1-439a-b2af-f8c68be96e2d",
   "metadata": {},
   "outputs": [],
   "source": [
    "# Visualisons l'espace des phases après optimisation\n",
    "_ = characterize_phase_space(ring)"
   ]
  },
  {
   "cell_type": "markdown",
   "id": "16853ef7-18f7-4d24-83ff-1168b58abc59",
   "metadata": {},
   "source": [
    "## Chargement d'un checkpoint de l'optimiseur"
   ]
  },
  {
   "cell_type": "code",
   "execution_count": null,
   "id": "9e7e48dc-2da8-4226-8747-e09bfa31e3ec",
   "metadata": {},
   "outputs": [],
   "source": [
    "opt.log()"
   ]
  },
  {
   "cell_type": "code",
   "execution_count": null,
   "id": "e0169243-40d4-46e4-a668-0bd9c141155d",
   "metadata": {},
   "outputs": [],
   "source": [
    "# Il est facile de charger un point spécifique\n",
    "# Dans notre cas, le point de départ\n",
    "opt.reload(0)\n",
    "opt.vary_status()"
   ]
  },
  {
   "cell_type": "code",
   "execution_count": null,
   "id": "923f7734-ca3e-4681-b672-c3c5a1015009",
   "metadata": {},
   "outputs": [],
   "source": [
    "# Espace des phases correspondant au point chargé\n",
    "_ = characterize_phase_space(ring)"
   ]
  },
  {
   "cell_type": "code",
   "execution_count": null,
   "id": "c41279da-51c5-43b8-9f45-2f113078444d",
   "metadata": {},
   "outputs": [],
   "source": [
    "# Retour à la solution de pybobyqa\n",
    "opt.reload(tag=\"bobyqa solution\")"
   ]
  },
  {
   "cell_type": "code",
   "execution_count": null,
   "id": "1b7905b0-d19e-4e5b-879c-c8124462536d",
   "metadata": {},
   "outputs": [],
   "source": [
    "# Espace des phases correspondant au point chargé\n",
    "_ = characterize_phase_space(ring)"
   ]
  },
  {
   "cell_type": "markdown",
   "id": "a94583f6-f36b-4136-a133-a6827f829a92",
   "metadata": {},
   "source": [
    "## Export des alimentation optimisées"
   ]
  },
  {
   "cell_type": "code",
   "execution_count": null,
   "id": "dfbd6fb2-4735-46dd-9aa5-6670cee4240a",
   "metadata": {},
   "outputs": [],
   "source": [
    "strengths: dict[str, float] = opt.get_knob_values()\n",
    "xt.json.dump(strengths, \"inputs/extraction_sextupoles.json\")"
   ]
  },
  {
   "cell_type": "markdown",
   "id": "87f7c458-8595-4588-8f25-7e6777c2ab57",
   "metadata": {},
   "source": [
    "---"
   ]
  }
 ],
 "metadata": {
  "kernelspec": {
   "display_name": "xsuite",
   "language": "python",
   "name": "xsuite"
  },
  "language_info": {
   "codemirror_mode": {
    "name": "ipython",
    "version": 3
   },
   "file_extension": ".py",
   "mimetype": "text/x-python",
   "name": "python",
   "nbconvert_exporter": "python",
   "pygments_lexer": "ipython3",
   "version": "3.13.5"
  }
 },
 "nbformat": 4,
 "nbformat_minor": 5
}
