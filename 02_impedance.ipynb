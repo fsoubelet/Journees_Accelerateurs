{
 "cells": [
  {
   "cell_type": "markdown",
   "id": "c12da622-923f-42d1-9f26-6d1bf6d26e48",
   "metadata": {},
   "source": [
    "# Longitudinal Plane and Instability Simulation"
   ]
  },
  {
   "cell_type": "code",
   "execution_count": null,
   "id": "d399feb0",
   "metadata": {},
   "outputs": [],
   "source": [
    "import matplotlib.pyplot as plt\n",
    "import numpy as np\n",
    "import xobjects as xo\n",
    "import xpart as xp\n",
    "import xtrack as xt\n",
    "import xwakes as xw\n",
    "\n",
    "context = xo.ContextCpu(omp_num_threads=\"auto\")\n",
    "%config InlineBackend.figure_format = \"retina\""
   ]
  },
  {
   "cell_type": "markdown",
   "id": "2b88c0e7-a911-4c76-a07d-5f7496711af4",
   "metadata": {},
   "source": [
    "### Load Machine and Twiss"
   ]
  },
  {
   "cell_type": "code",
   "execution_count": null,
   "id": "90a86dd1",
   "metadata": {},
   "outputs": [],
   "source": [
    "# Import in Xsuite\n",
    "env = xt.Environment.from_json(\"pimm.json\")\n",
    "env.vars.load_json(\"pimm_strengths.json\")\n",
    "\n",
    "line = env.ring\n",
    "line.configure_bend_model(num_multipole_kicks=5)\n",
    "twiss4d = line.twiss(method=\"4d\")"
   ]
  },
  {
   "cell_type": "code",
   "execution_count": null,
   "id": "0b7beba6-e46d-4fbe-986a-f9ff9ce0ff4c",
   "metadata": {},
   "outputs": [],
   "source": [
    "# Insert horizontal aperture limitation to see losses\n",
    "line.discard_tracker()\n",
    "line.append_element(name=\"aperture\", element=xt.LimitRect(min_x=-0.05, max_x=0.05));"
   ]
  },
  {
   "cell_type": "markdown",
   "id": "7370422d-1d9e-406a-b0ea-55ea118c49bc",
   "metadata": {},
   "source": [
    "### Switch on the RF"
   ]
  },
  {
   "cell_type": "code",
   "execution_count": null,
   "id": "95593e53-50db-4cce-87e0-b0eeaf1716ed",
   "metadata": {},
   "outputs": [],
   "source": [
    "# Power the RF Cavity's variables\n",
    "env.vars[\"vrf\"] = 10e3  # 10kV\n",
    "env.vars[\"frf\"] = 1 / twiss4d.T_rev0  # h=1"
   ]
  },
  {
   "cell_type": "code",
   "execution_count": null,
   "id": "3dfba5f4-8853-4d11-9c64-7a97038ce2a0",
   "metadata": {},
   "outputs": [],
   "source": [
    "# Now perform a 6D Twiss\n",
    "twiss0 = line.twiss()\n",
    "twiss0.qs"
   ]
  },
  {
   "cell_type": "markdown",
   "id": "f30a12dc-8cbb-419c-b25b-b0b65d90c748",
   "metadata": {},
   "source": [
    "## Inspect longitudinal phase space"
   ]
  },
  {
   "cell_type": "code",
   "execution_count": null,
   "id": "874b4e1b-957b-4aee-aa96-9f30d17e419c",
   "metadata": {},
   "outputs": [],
   "source": [
    "# Track a set of particles with different momenta\n",
    "p = line.build_particles(delta=np.linspace(-1e-2, 1e-2, 101))\n",
    "line.track(p, num_turns=1500, turn_by_turn_monitor=True, with_progress=True)\n",
    "mon = line.record_last_track"
   ]
  },
  {
   "cell_type": "code",
   "execution_count": null,
   "id": "14181bd7-d28e-4d08-8b20-48df65313b5f",
   "metadata": {},
   "outputs": [],
   "source": [
    "plt.figure()\n",
    "plt.plot(mon.zeta.T, mon.delta.T * 1e3, c=\"C0\", lw=1)\n",
    "plt.xlim(-40, 40)\n",
    "plt.xlabel(r\"$\\zeta$ [m]\")\n",
    "plt.ylabel(r\"$\\delta$ [10$^{-3}$]\")\n",
    "plt.title(\"Longitudinal Phase Space\")\n",
    "plt.show()"
   ]
  },
  {
   "cell_type": "markdown",
   "id": "ea1ffd05-ff05-4374-91dd-61db965463f8",
   "metadata": {},
   "source": [
    "## Install Transverse Wakefields"
   ]
  },
  {
   "cell_type": "code",
   "execution_count": null,
   "id": "8dd6d278-7ab0-4757-b5a8-a79d86af1046",
   "metadata": {},
   "outputs": [],
   "source": [
    "# Install a resonator wakefield to represent the impedance in the line\n",
    "wakefield = xw.WakeResonator(kind=\"dipolar_x\", r=100e6, f_r=1.3e6, q=1.0)  # Shunt impedance\n",
    "wakefield.configure_for_tracking(zeta_range=(-20, 20), num_slices=20)\n",
    "line.append(\"wf\", wakefield)"
   ]
  },
  {
   "cell_type": "markdown",
   "id": "02fd95fb-4a0c-4cce-b386-2fd38c76a6f4",
   "metadata": {},
   "source": [
    "### Generate a Bunch Matched to the Bucket and Optics"
   ]
  },
  {
   "cell_type": "code",
   "execution_count": null,
   "id": "4fe60789-ef4c-495d-a35c-1fda238f4c4a",
   "metadata": {},
   "outputs": [],
   "source": [
    "%%capture\n",
    "line.build_tracker(_context=context)\n",
    "\n",
    "bunch = xp.generate_matched_gaussian_bunch(\n",
    "    line=line,\n",
    "    num_particles=10_000,\n",
    "    total_intensity_particles=1e11,\n",
    "    nemitt_x=2e-6,\n",
    "    nemitt_y=2e-6,\n",
    "    sigma_z=10.0,\n",
    "    _context=context\n",
    ")\n",
    "bunch.circumference = twiss0.circumference  # required by xwakes"
   ]
  },
  {
   "cell_type": "code",
   "execution_count": null,
   "id": "23838075-e5f9-41a7-96dd-cbaf2b64883d",
   "metadata": {},
   "outputs": [],
   "source": [
    "# Apply an initial kick of 1 mm\n",
    "bunch.x += 1e-3\n",
    "bunch0 = bunch.copy(_context=context)  # keep initial state"
   ]
  },
  {
   "cell_type": "markdown",
   "id": "bd84f55a-9e98-427d-bec3-867f196f058f",
   "metadata": {},
   "source": [
    "### Simulate 1000 Turns"
   ]
  },
  {
   "cell_type": "code",
   "execution_count": null,
   "id": "aaf07bfe-9985-4de3-808d-8e7b74dd957f",
   "metadata": {},
   "outputs": [],
   "source": [
    "# Define quantities to be logged during tracking\n",
    "def compute_x_mean(line: xt.Line, particles: xt.Particles) -> float:\n",
    "    nplike = particles._context.nplike_lib\n",
    "    bunch.hide_lost_particles()\n",
    "    x_average = nplike.mean(particles.x)\n",
    "    bunch.unhide_lost_particles()\n",
    "    return x_average\n",
    "\n",
    "\n",
    "def compute_intensity(line: xt.Line, particles: xt.Particles) -> float:\n",
    "    nplike = particles._context.nplike_lib\n",
    "    bunch.hide_lost_particles()\n",
    "    intensity = nplike.sum(particles.weight)\n",
    "    bunch.unhide_lost_particles()\n",
    "    return intensity\n",
    "\n",
    "\n",
    "# Create a logger to compute these at each turn\n",
    "track_log = xt.Log(x_mean=compute_x_mean, intensity=compute_intensity)"
   ]
  },
  {
   "cell_type": "code",
   "execution_count": null,
   "id": "674fa725-484a-4e3a-b4fd-b28600919597",
   "metadata": {},
   "outputs": [],
   "source": [
    "# Track!\n",
    "line.enable_time_dependent_vars = True\n",
    "line.track(bunch, log=track_log, num_turns=1000, with_progress=5)"
   ]
  },
  {
   "cell_type": "code",
   "execution_count": null,
   "id": "a4415bd5-7693-4851-8bbb-5c6a451480ec",
   "metadata": {},
   "outputs": [],
   "source": [
    "# Plot logged data\n",
    "x_mean = np.array(line.log_last_track[\"x_mean\"])\n",
    "intensity = np.array(line.log_last_track[\"intensity\"])\n",
    "\n",
    "plt.figure(figsize=(7, 5))\n",
    "ax1 = plt.subplot(2, 1, 1)\n",
    "ax1.plot(x_mean, label=rf\"$Q_x^' = {twiss0.dqx:.2f}, Q_y^' = {twiss0.dqy:.2f}$\")\n",
    "ax1.set_ylabel(r\"$x_{\\mathrm{centroid}}$ [m]\")\n",
    "\n",
    "ax2 = plt.subplot(2, 1, 2, sharex=ax1)\n",
    "ax2.plot(intensity * 1e-11, label=rf\"$Q_x^' = {twiss0.dqx:.2f}, Q_y^' = {twiss0.dqy:.2f}$\")\n",
    "ax2.set_ylim(bottom=0)\n",
    "ax2.set_ylabel(\"Intensity [$10^{11}$ppb]\")\n",
    "ax2.set_xlabel(\"Turn\")\n",
    "\n",
    "plt.gcf().align_ylabels((ax1, ax2))\n",
    "ax1.legend(ncols=2, loc=\"lower center\", bbox_to_anchor=(0.5, 1))\n",
    "plt.subplots_adjust(left=0.2, hspace=0.3, top=0.9)\n",
    "plt.show()"
   ]
  },
  {
   "cell_type": "markdown",
   "id": "7b4dfbda-dbe3-4a8b-9db1-5268d99b2736",
   "metadata": {},
   "source": [
    "### Adjust the Sextupoles to Change the Chromaticity"
   ]
  },
  {
   "cell_type": "code",
   "execution_count": null,
   "id": "410788d7-7be8-46e5-8737-8f5981a1afda",
   "metadata": {
    "scrolled": true
   },
   "outputs": [],
   "source": [
    "%%capture\n",
    "line.enable_time_dependent_vars = False\n",
    "opt = line.match(\n",
    "    solve=False,\n",
    "    method=\"4d\",\n",
    "    vary=xt.VaryList([\"ksf\", \"ksd\"], step=1e-3),\n",
    "    targets=xt.TargetSet(dqx=-4.0, dqy=-4.0, tol=1e-3, tag=\"chrom\"),\n",
    ")\n",
    "opt.solve()\n",
    "twiss1 = line.twiss()"
   ]
  },
  {
   "cell_type": "markdown",
   "id": "a30fd387-e45f-4983-a686-b3e609cbfa9a",
   "metadata": {},
   "source": [
    "### Repeat the Simulation"
   ]
  },
  {
   "cell_type": "code",
   "execution_count": null,
   "id": "c7358c29-5994-4755-829f-8837c20ec9a7",
   "metadata": {},
   "outputs": [],
   "source": [
    "bunch = bunch0.copy(_context=context)"
   ]
  },
  {
   "cell_type": "code",
   "execution_count": null,
   "id": "83f22dbb-9965-400d-8eeb-12cd6681fff3",
   "metadata": {},
   "outputs": [],
   "source": [
    "bunch.x += 1e-3\n",
    "line.enable_time_dependent_vars = True\n",
    "line.track(bunch, log=track_log, num_turns=1000, with_progress=5)"
   ]
  },
  {
   "cell_type": "code",
   "execution_count": null,
   "id": "ac8e3ccd-b83d-48ec-b4f0-3f821f5ce2ac",
   "metadata": {},
   "outputs": [],
   "source": [
    "# Plot logged data\n",
    "x_mean_corr = np.array(line.log_last_track[\"x_mean\"])\n",
    "intensity_corr = np.array(line.log_last_track[\"intensity\"])\n",
    "\n",
    "plt.figure(figsize=(7, 5))\n",
    "ax1 = plt.subplot(2, 1, 1)\n",
    "ax1.plot(x_mean, label=rf\"$Q_x^' = {twiss0.dqx:.2f}, Q_y^' = {twiss0.dqy:.2f}$\")\n",
    "ax1.plot(x_mean_corr, label=rf\"$Q_x^' = {twiss1.dqx:.2f}, Q_y^' = {twiss1.dqy:.2f}$\")\n",
    "ax1.set_ylabel(r\"$x_{\\mathrm{centroid}}$ [m]\")\n",
    "\n",
    "ax2 = plt.subplot(2, 1, 2, sharex=ax1)\n",
    "ax2.plot(intensity * 1e-11, label=rf\"$Q_x^' = {twiss0.dqx:.2f}, Q_y^' = {twiss0.dqy:.2f}$\")\n",
    "ax2.plot(intensity_corr * 1e-11, label=rf\"$Q_x^' = {twiss1.dqx:.2f}, Q_y^' = {twiss1.dqy:.2f}$\")\n",
    "ax2.set_ylim(bottom=0)\n",
    "ax2.set_ylabel(\"Intensity [$10^{11}$ppb]\")\n",
    "ax2.set_xlabel(\"Turn\")\n",
    "\n",
    "plt.subplots_adjust(left=0.2, hspace=0.3, top=0.9)\n",
    "ax1.legend(ncols=2, loc=\"lower center\", bbox_to_anchor=(0.5, 1))\n",
    "plt.show()"
   ]
  },
  {
   "cell_type": "markdown",
   "id": "287085b5-721e-43b6-9876-9b97b75f2989",
   "metadata": {},
   "source": [
    "---"
   ]
  }
 ],
 "metadata": {
  "kernelspec": {
   "display_name": "xsuite",
   "language": "python",
   "name": "xsuite"
  },
  "language_info": {
   "codemirror_mode": {
    "name": "ipython",
    "version": 3
   },
   "file_extension": ".py",
   "mimetype": "text/x-python",
   "name": "python",
   "nbconvert_exporter": "python",
   "pygments_lexer": "ipython3",
   "version": "3.13.5"
  }
 },
 "nbformat": 4,
 "nbformat_minor": 5
}
