{
 "cells": [
  {
   "cell_type": "markdown",
   "id": "8bae9acc-94f5-4dfc-ad3e-c69994008fa0",
   "metadata": {},
   "source": [
    "# Optics Matching & Slow Extraction"
   ]
  },
  {
   "cell_type": "code",
   "execution_count": null,
   "id": "ccf30868-0e26-40bf-879d-84b80f5d323f",
   "metadata": {},
   "outputs": [],
   "source": [
    "import matplotlib.pyplot as plt\n",
    "import numpy as np\n",
    "import xtrack as xt\n",
    "\n",
    "%config InlineBackend.figure_format = \"retina\""
   ]
  },
  {
   "cell_type": "markdown",
   "id": "bde7d49b-7157-4588-9d3c-eab56e197939",
   "metadata": {},
   "source": [
    "### Load Model and Set Initial Strengths"
   ]
  },
  {
   "cell_type": "code",
   "execution_count": null,
   "id": "0c5e9877-56cf-4762-a23b-38f06df47f1b",
   "metadata": {},
   "outputs": [],
   "source": [
    "env = xt.Environment.from_json(\"pimm.json\")\n",
    "ring = env[\"ring\"]"
   ]
  },
  {
   "cell_type": "code",
   "execution_count": null,
   "id": "4ef3d6c3-d19f-4c4b-98cc-06cd77d2a124",
   "metadata": {},
   "outputs": [],
   "source": [
    "# Assigned 'randomly' to get a computable Twiss\n",
    "env[\"kqfa\"] = 0.01\n",
    "env[\"kqfb\"] = 0.01\n",
    "env[\"kqd\"] = -0.02"
   ]
  },
  {
   "cell_type": "code",
   "execution_count": null,
   "id": "46e08550-30bf-4804-bcc4-e843971a84b1",
   "metadata": {},
   "outputs": [],
   "source": [
    "twiss = ring.twiss4d(compute_chromatic_properties=False)\n",
    "twiss.plot()"
   ]
  },
  {
   "cell_type": "markdown",
   "id": "fa5c6480-0cfc-4c56-9661-daf9f8031346",
   "metadata": {},
   "source": [
    "### Match the Tunes"
   ]
  },
  {
   "cell_type": "code",
   "execution_count": null,
   "id": "4d6b4457-220d-4ce0-8c76-c6284a08ee23",
   "metadata": {},
   "outputs": [],
   "source": [
    "opt_tune = ring.match(\n",
    "    solve=False,  # <- prepare the match but do not run\n",
    "    vary=[\n",
    "        xt.Vary(\"kqfa\", limits=(0, 10), step=1e-3),\n",
    "        xt.Vary(\"kqfb\", limits=(0, 10), step=1e-3),\n",
    "        xt.Vary(\"kqd\", limits=(-10, 0), step=1e-3),\n",
    "    ],\n",
    "    targets=[  # Horizontal tune close to 3rd order resonance\n",
    "        xt.TargetSet(qx=1.665, qy=1.72, tol=1e-4),\n",
    "    ],\n",
    "    compute_chromatic_properties=False,\n",
    "    method=\"4d\",\n",
    ")"
   ]
  },
  {
   "cell_type": "code",
   "execution_count": null,
   "id": "92dcf72f-0075-44f3-819f-f17ce4b748a5",
   "metadata": {},
   "outputs": [],
   "source": [
    "opt_tune.target_status()"
   ]
  },
  {
   "cell_type": "code",
   "execution_count": null,
   "id": "f6873315-bb34-4122-8d60-be2d065e9c00",
   "metadata": {},
   "outputs": [],
   "source": [
    "opt_tune.run_jacobian(30)"
   ]
  },
  {
   "cell_type": "code",
   "execution_count": null,
   "id": "0963c8f9-0dc8-48cc-a319-107873e731aa",
   "metadata": {},
   "outputs": [],
   "source": [
    "opt_tune.target_status()"
   ]
  },
  {
   "cell_type": "code",
   "execution_count": null,
   "id": "b40f4bd7-c3a9-4638-ac74-596c6b51c7f5",
   "metadata": {},
   "outputs": [],
   "source": [
    "opt_tune.vary_status()"
   ]
  },
  {
   "cell_type": "code",
   "execution_count": null,
   "id": "c9ba5343-84d8-48df-bffc-39ac18e9b4f5",
   "metadata": {},
   "outputs": [],
   "source": [
    "# Inspect the optics\n",
    "twiss = ring.twiss4d()\n",
    "plot = twiss.plot()\n",
    "plot.ylim(left_hi=40, right_lo=-20, right_hi=20, lattice_hi=1.5, lattice_lo=-7)"
   ]
  },
  {
   "cell_type": "markdown",
   "id": "74f54889-c64a-4c8e-8d04-b7122bb80dce",
   "metadata": {},
   "source": [
    "### Add Dispersion Constraint at Center of the Long Straight Sections"
   ]
  },
  {
   "cell_type": "code",
   "execution_count": null,
   "id": "b771bbfe-70d5-4be9-b0bb-8db4843eab07",
   "metadata": {},
   "outputs": [],
   "source": [
    "opt_disp = opt_tune.clone(  # clone to keep previous constraints!\n",
    "    add_targets=[\n",
    "        xt.TargetSet(dx=0, at=\"mid.lss.0\"),\n",
    "        xt.TargetSet(dx=0, at=\"mid.lss.1\"),\n",
    "    ]\n",
    ")"
   ]
  },
  {
   "cell_type": "code",
   "execution_count": null,
   "id": "f403620b-2796-470f-84d1-504eb7121dd2",
   "metadata": {},
   "outputs": [],
   "source": [
    "opt_disp.target_status()"
   ]
  },
  {
   "cell_type": "code",
   "execution_count": null,
   "id": "b5d085a3-f7e2-4a08-bc3b-3b76514f6345",
   "metadata": {},
   "outputs": [],
   "source": [
    "opt_disp.run_simplex(100)  # Nelder-Mead optimisation algorithm"
   ]
  },
  {
   "cell_type": "code",
   "execution_count": null,
   "id": "c108e9cb-3fbd-45fb-a67a-8e4cc4a76971",
   "metadata": {},
   "outputs": [],
   "source": [
    "# Inspect the optics\n",
    "twiss = ring.twiss4d()\n",
    "plot = twiss.plot()\n",
    "plot.ylim(left_hi=40, right_lo=-20, right_hi=20, lattice_hi=1.5, lattice_lo=-7)"
   ]
  },
  {
   "cell_type": "markdown",
   "id": "c1a99506-1db7-4ac1-9fec-3534ac11ab56",
   "metadata": {},
   "source": [
    "## Correct Chromaticity"
   ]
  },
  {
   "cell_type": "code",
   "execution_count": null,
   "id": "437874a0-0886-44b1-ba08-eadbf97d3582",
   "metadata": {},
   "outputs": [],
   "source": [
    "opt_chrom = ring.match(\n",
    "    solve=True,\n",
    "    method=\"4d\",\n",
    "    vary=xt.VaryList([\"ksf\", \"ksd\"], step=1e-3),\n",
    "    targets=xt.TargetSet(dqx=-0.01, dqy=-0.01, tol=1e-3),\n",
    ")"
   ]
  },
  {
   "cell_type": "code",
   "execution_count": null,
   "id": "d5796d7f-1d6e-4bf4-ba4f-d78a464569f8",
   "metadata": {},
   "outputs": [],
   "source": [
    "opt_chrom.run_ls_dogbox(30)  # Least squares, dobgox algorithm"
   ]
  },
  {
   "cell_type": "code",
   "execution_count": null,
   "id": "c0fbf377-9977-4d16-9665-47cae3794694",
   "metadata": {},
   "outputs": [],
   "source": [
    "opt_chrom.target_status()"
   ]
  },
  {
   "cell_type": "markdown",
   "id": "a496adc8-86d3-40c3-ba93-e4b2e662d9b9",
   "metadata": {},
   "source": [
    "## Observe Phase Space Deformation when Exciting the Resonance"
   ]
  },
  {
   "cell_type": "code",
   "execution_count": null,
   "id": "864736d0-e0be-476c-9844-f1a806cefb03",
   "metadata": {},
   "outputs": [],
   "source": [
    "# Generate 20 particles on the x axis\n",
    "x_gen = np.linspace(0, 0.5e-2, 20)\n",
    "parts = ring.build_particles(x=x_gen, px=0, y=0, py=0, zeta=0, delta=0)"
   ]
  },
  {
   "cell_type": "code",
   "execution_count": null,
   "id": "efab18ba-041e-46cc-8098-b08602efeaed",
   "metadata": {},
   "outputs": [],
   "source": [
    "# Set extraction sextupole\n",
    "env[\"kse\"] = 6\n",
    "\n",
    "# Track 1000 turns\n",
    "ring.track(parts, num_turns=1000, turn_by_turn_monitor=True)\n",
    "record = ring.record_last_track"
   ]
  },
  {
   "cell_type": "code",
   "execution_count": null,
   "id": "8dd35620-60dc-47b4-8f79-a51baf0a52b0",
   "metadata": {},
   "outputs": [],
   "source": [
    "# Plot turn-by-turn data\n",
    "plt.figure()\n",
    "plt.plot(record.x.T, record.px.T, \".\", markersize=1, color=\"C0\")\n",
    "plt.xlim(-2e-2, 2e-2)\n",
    "plt.ylim(-2e-3, 2e-3)\n",
    "plt.xlabel(r\"$x$ [m]\")\n",
    "plt.ylabel(r\"$p_x$\")\n",
    "plt.title(\"Horizontal Phase Space\")\n",
    "plt.subplots_adjust(left=0.15)\n",
    "plt.show()"
   ]
  },
  {
   "cell_type": "markdown",
   "id": "a6345b89-abc4-4d32-be2c-efe69a93644a",
   "metadata": {},
   "source": [
    "### Exports Settings"
   ]
  },
  {
   "cell_type": "code",
   "execution_count": null,
   "id": "0040ae7e-3483-4d63-8f3f-027cca3a5286",
   "metadata": {},
   "outputs": [],
   "source": [
    "# Extract the strengths from optimisers\n",
    "quad_strengths: dict[str, float] = opt_disp.get_knob_values()\n",
    "sext_strengths: dict[str, float] = opt_chrom.get_knob_values()"
   ]
  },
  {
   "cell_type": "code",
   "execution_count": null,
   "id": "9693048b-7494-41ba-a16d-471065f647e2",
   "metadata": {},
   "outputs": [],
   "source": [
    "# Merge dictionaries and save to file\n",
    "strengths = quad_strengths | sext_strengths\n",
    "xt.json.dump(strengths, \"pimm_strengths.json\")"
   ]
  },
  {
   "cell_type": "markdown",
   "id": "af53f86e-c57b-45ce-86fd-98ed0ddb650b",
   "metadata": {},
   "source": [
    "---"
   ]
  }
 ],
 "metadata": {
  "kernelspec": {
   "display_name": "xsuite",
   "language": "python",
   "name": "xsuite"
  },
  "language_info": {
   "codemirror_mode": {
    "name": "ipython",
    "version": 3
   },
   "file_extension": ".py",
   "mimetype": "text/x-python",
   "name": "python",
   "nbconvert_exporter": "python",
   "pygments_lexer": "ipython3",
   "version": "3.13.5"
  }
 },
 "nbformat": 4,
 "nbformat_minor": 5
}
